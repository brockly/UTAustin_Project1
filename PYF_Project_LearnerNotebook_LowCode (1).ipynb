{
  "cells": [
    {
      "cell_type": "markdown",
      "metadata": {
        "id": "HnAlaR5Y2rc8"
      },
      "source": [
        "# Project Python Foundations: FoodHub Data Analysis\n",
        "\n",
        "**Marks: 60 points**"
      ]
    },
    {
      "cell_type": "markdown",
      "metadata": {
        "id": "N0e9ilAx2rc_"
      },
      "source": [
        "### Context\n",
        "\n",
        "The number of restaurants in New York is increasing day by day. Lots of students and busy professionals rely on those restaurants due to their hectic lifestyles. Online food delivery service is a great option for them. It provides them with good food from their favorite restaurants. A food aggregator company FoodHub offers access to multiple restaurants through a single smartphone app.\n",
        "\n",
        "The app allows the restaurants to receive a direct online order from a customer. The app assigns a delivery person from the company to pick up the order after it is confirmed by the restaurant. The delivery person then uses the map to reach the restaurant and waits for the food package. Once the food package is handed over to the delivery person, he/she confirms the pick-up in the app and travels to the customer's location to deliver the food. The delivery person confirms the drop-off in the app after delivering the food package to the customer. The customer can rate the order in the app. The food aggregator earns money by collecting a fixed margin of the delivery order from the restaurants.\n",
        "\n",
        "### Objective\n",
        "\n",
        "The food aggregator company has stored the data of the different orders made by the registered customers in their online portal. They want to analyze the data to get a fair idea about the demand of different restaurants which will help them in enhancing their customer experience. Suppose you are a Data Scientist at Foodhub and the Data Science team has shared some of the key questions that need to be answered. Perform the data analysis to find answers to these questions that will help the company to improve the business.\n",
        "\n",
        "### Data Description\n",
        "\n",
        "The data contains the different data related to a food order. The detailed data dictionary is given below.\n",
        "\n",
        "### Data Dictionary\n",
        "\n",
        "* order_id: Unique ID of the order\n",
        "* customer_id: ID of the customer who ordered the food\n",
        "* restaurant_name: Name of the restaurant\n",
        "* cuisine_type: Cuisine ordered by the customer\n",
        "* cost_of_the_order: Cost of the order\n",
        "* day_of_the_week: Indicates whether the order is placed on a weekday or weekend (The weekday is from Monday to Friday and the weekend is Saturday and Sunday)\n",
        "* rating: Rating given by the customer out of 5\n",
        "* food_preparation_time: Time (in minutes) taken by the restaurant to prepare the food. This is calculated by taking the difference between the timestamps of the restaurant's order confirmation and the delivery person's pick-up confirmation.\n",
        "* delivery_time: Time (in minutes) taken by the delivery person to deliver the food package. This is calculated by taking the difference between the timestamps of the delivery person's pick-up confirmation and drop-off information"
      ]
    },
    {
      "cell_type": "markdown",
      "metadata": {
        "id": "Ruz2EiJ32rdB"
      },
      "source": [
        "### **Please read the instructions carefully before starting the project.**\n",
        "This is a commented Jupyter IPython Notebook file in which all the instructions and tasks to be performed are mentioned. Read along carefully to complete the project.\n",
        "* Blanks '_______' are provided in the notebook that\n",
        "needs to be filled with an appropriate code to get the correct result. Please replace the blank with the right code snippet. With every '_______' blank, there is a comment that briefly describes what needs to be filled in the blank space.\n",
        "* Identify the task to be performed correctly, and only then proceed to write the required code.\n",
        "* Fill the code wherever asked by the commented lines like \"# write your code here\" or \"# complete the code\". Running incomplete code may throw an error.\n",
        "* Please run the codes in a sequential manner from the beginning to avoid any unnecessary errors.\n",
        "* You can the results/observations derived from the analysis here and use them to create your final presentation.\n"
      ]
    },
    {
      "cell_type": "markdown",
      "metadata": {
        "id": "enOodKS42rdB"
      },
      "source": [
        "### Let us start by importing the required libraries"
      ]
    },
    {
      "cell_type": "code",
      "execution_count": null,
      "metadata": {
        "id": "p7FpluTK2rdC"
      },
      "outputs": [],
      "source": [
        "# Import libraries for data manipulation\n",
        "import numpy as np\n",
        "import pandas as pd\n",
        "\n",
        "# Import libraries for data visualization\n",
        "import matplotlib.pyplot as plt\n",
        "import seaborn as sns"
      ]
    },
    {
      "cell_type": "markdown",
      "metadata": {
        "id": "LHxIYWXP2rdD"
      },
      "source": [
        "### Understanding the structure of the data"
      ]
    },
    {
      "cell_type": "code",
      "execution_count": null,
      "metadata": {
        "id": "bTSFV3nfkOqH",
        "colab": {
          "base_uri": "https://localhost:8080/"
        },
        "outputId": "f5f5ed1d-7e29-467c-9748-bf6de031d795"
      },
      "outputs": [
        {
          "output_type": "stream",
          "name": "stdout",
          "text": [
            "Mounted at /content/drive\n"
          ]
        }
      ],
      "source": [
        "# uncomment and run the following lines for Google Colab\n",
        "from google.colab import drive\n",
        "drive.mount('/content/drive')"
      ]
    },
    {
      "cell_type": "code",
      "execution_count": null,
      "metadata": {
        "id": "nwlzFr-_2rdD",
        "scrolled": true,
        "colab": {
          "base_uri": "https://localhost:8080/",
          "height": 278
        },
        "outputId": "c6f2416e-9334-46b4-ac00-07937ec40b07"
      },
      "outputs": [
        {
          "output_type": "execute_result",
          "data": {
            "text/plain": [
              "   order_id  customer_id            restaurant_name cuisine_type  \\\n",
              "0   1477147       337525                    Hangawi       Korean   \n",
              "1   1477685       358141  Blue Ribbon Sushi Izakaya     Japanese   \n",
              "2   1477070        66393                Cafe Habana      Mexican   \n",
              "3   1477334       106968  Blue Ribbon Fried Chicken     American   \n",
              "4   1478249        76942           Dirty Bird to Go     American   \n",
              "\n",
              "   cost_of_the_order day_of_the_week     rating  food_preparation_time  \\\n",
              "0              30.75         Weekend  Not given                     25   \n",
              "1              12.08         Weekend  Not given                     25   \n",
              "2              12.23         Weekday          5                     23   \n",
              "3              29.20         Weekend          3                     25   \n",
              "4              11.59         Weekday          4                     25   \n",
              "\n",
              "   delivery_time  \n",
              "0             20  \n",
              "1             23  \n",
              "2             28  \n",
              "3             15  \n",
              "4             24  "
            ],
            "text/html": [
              "\n",
              "  <div id=\"df-f8b07f7d-3ccb-4fff-8883-54db8d5f9c15\" class=\"colab-df-container\">\n",
              "    <div>\n",
              "<style scoped>\n",
              "    .dataframe tbody tr th:only-of-type {\n",
              "        vertical-align: middle;\n",
              "    }\n",
              "\n",
              "    .dataframe tbody tr th {\n",
              "        vertical-align: top;\n",
              "    }\n",
              "\n",
              "    .dataframe thead th {\n",
              "        text-align: right;\n",
              "    }\n",
              "</style>\n",
              "<table border=\"1\" class=\"dataframe\">\n",
              "  <thead>\n",
              "    <tr style=\"text-align: right;\">\n",
              "      <th></th>\n",
              "      <th>order_id</th>\n",
              "      <th>customer_id</th>\n",
              "      <th>restaurant_name</th>\n",
              "      <th>cuisine_type</th>\n",
              "      <th>cost_of_the_order</th>\n",
              "      <th>day_of_the_week</th>\n",
              "      <th>rating</th>\n",
              "      <th>food_preparation_time</th>\n",
              "      <th>delivery_time</th>\n",
              "    </tr>\n",
              "  </thead>\n",
              "  <tbody>\n",
              "    <tr>\n",
              "      <th>0</th>\n",
              "      <td>1477147</td>\n",
              "      <td>337525</td>\n",
              "      <td>Hangawi</td>\n",
              "      <td>Korean</td>\n",
              "      <td>30.75</td>\n",
              "      <td>Weekend</td>\n",
              "      <td>Not given</td>\n",
              "      <td>25</td>\n",
              "      <td>20</td>\n",
              "    </tr>\n",
              "    <tr>\n",
              "      <th>1</th>\n",
              "      <td>1477685</td>\n",
              "      <td>358141</td>\n",
              "      <td>Blue Ribbon Sushi Izakaya</td>\n",
              "      <td>Japanese</td>\n",
              "      <td>12.08</td>\n",
              "      <td>Weekend</td>\n",
              "      <td>Not given</td>\n",
              "      <td>25</td>\n",
              "      <td>23</td>\n",
              "    </tr>\n",
              "    <tr>\n",
              "      <th>2</th>\n",
              "      <td>1477070</td>\n",
              "      <td>66393</td>\n",
              "      <td>Cafe Habana</td>\n",
              "      <td>Mexican</td>\n",
              "      <td>12.23</td>\n",
              "      <td>Weekday</td>\n",
              "      <td>5</td>\n",
              "      <td>23</td>\n",
              "      <td>28</td>\n",
              "    </tr>\n",
              "    <tr>\n",
              "      <th>3</th>\n",
              "      <td>1477334</td>\n",
              "      <td>106968</td>\n",
              "      <td>Blue Ribbon Fried Chicken</td>\n",
              "      <td>American</td>\n",
              "      <td>29.20</td>\n",
              "      <td>Weekend</td>\n",
              "      <td>3</td>\n",
              "      <td>25</td>\n",
              "      <td>15</td>\n",
              "    </tr>\n",
              "    <tr>\n",
              "      <th>4</th>\n",
              "      <td>1478249</td>\n",
              "      <td>76942</td>\n",
              "      <td>Dirty Bird to Go</td>\n",
              "      <td>American</td>\n",
              "      <td>11.59</td>\n",
              "      <td>Weekday</td>\n",
              "      <td>4</td>\n",
              "      <td>25</td>\n",
              "      <td>24</td>\n",
              "    </tr>\n",
              "  </tbody>\n",
              "</table>\n",
              "</div>\n",
              "    <div class=\"colab-df-buttons\">\n",
              "\n",
              "  <div class=\"colab-df-container\">\n",
              "    <button class=\"colab-df-convert\" onclick=\"convertToInteractive('df-f8b07f7d-3ccb-4fff-8883-54db8d5f9c15')\"\n",
              "            title=\"Convert this dataframe to an interactive table.\"\n",
              "            style=\"display:none;\">\n",
              "\n",
              "  <svg xmlns=\"http://www.w3.org/2000/svg\" height=\"24px\" viewBox=\"0 -960 960 960\">\n",
              "    <path d=\"M120-120v-720h720v720H120Zm60-500h600v-160H180v160Zm220 220h160v-160H400v160Zm0 220h160v-160H400v160ZM180-400h160v-160H180v160Zm440 0h160v-160H620v160ZM180-180h160v-160H180v160Zm440 0h160v-160H620v160Z\"/>\n",
              "  </svg>\n",
              "    </button>\n",
              "\n",
              "  <style>\n",
              "    .colab-df-container {\n",
              "      display:flex;\n",
              "      gap: 12px;\n",
              "    }\n",
              "\n",
              "    .colab-df-convert {\n",
              "      background-color: #E8F0FE;\n",
              "      border: none;\n",
              "      border-radius: 50%;\n",
              "      cursor: pointer;\n",
              "      display: none;\n",
              "      fill: #1967D2;\n",
              "      height: 32px;\n",
              "      padding: 0 0 0 0;\n",
              "      width: 32px;\n",
              "    }\n",
              "\n",
              "    .colab-df-convert:hover {\n",
              "      background-color: #E2EBFA;\n",
              "      box-shadow: 0px 1px 2px rgba(60, 64, 67, 0.3), 0px 1px 3px 1px rgba(60, 64, 67, 0.15);\n",
              "      fill: #174EA6;\n",
              "    }\n",
              "\n",
              "    .colab-df-buttons div {\n",
              "      margin-bottom: 4px;\n",
              "    }\n",
              "\n",
              "    [theme=dark] .colab-df-convert {\n",
              "      background-color: #3B4455;\n",
              "      fill: #D2E3FC;\n",
              "    }\n",
              "\n",
              "    [theme=dark] .colab-df-convert:hover {\n",
              "      background-color: #434B5C;\n",
              "      box-shadow: 0px 1px 3px 1px rgba(0, 0, 0, 0.15);\n",
              "      filter: drop-shadow(0px 1px 2px rgba(0, 0, 0, 0.3));\n",
              "      fill: #FFFFFF;\n",
              "    }\n",
              "  </style>\n",
              "\n",
              "    <script>\n",
              "      const buttonEl =\n",
              "        document.querySelector('#df-f8b07f7d-3ccb-4fff-8883-54db8d5f9c15 button.colab-df-convert');\n",
              "      buttonEl.style.display =\n",
              "        google.colab.kernel.accessAllowed ? 'block' : 'none';\n",
              "\n",
              "      async function convertToInteractive(key) {\n",
              "        const element = document.querySelector('#df-f8b07f7d-3ccb-4fff-8883-54db8d5f9c15');\n",
              "        const dataTable =\n",
              "          await google.colab.kernel.invokeFunction('convertToInteractive',\n",
              "                                                    [key], {});\n",
              "        if (!dataTable) return;\n",
              "\n",
              "        const docLinkHtml = 'Like what you see? Visit the ' +\n",
              "          '<a target=\"_blank\" href=https://colab.research.google.com/notebooks/data_table.ipynb>data table notebook</a>'\n",
              "          + ' to learn more about interactive tables.';\n",
              "        element.innerHTML = '';\n",
              "        dataTable['output_type'] = 'display_data';\n",
              "        await google.colab.output.renderOutput(dataTable, element);\n",
              "        const docLink = document.createElement('div');\n",
              "        docLink.innerHTML = docLinkHtml;\n",
              "        element.appendChild(docLink);\n",
              "      }\n",
              "    </script>\n",
              "  </div>\n",
              "\n",
              "\n",
              "<div id=\"df-2c1ed788-5deb-4a8c-a5b2-2a857e5bc5d4\">\n",
              "  <button class=\"colab-df-quickchart\" onclick=\"quickchart('df-2c1ed788-5deb-4a8c-a5b2-2a857e5bc5d4')\"\n",
              "            title=\"Suggest charts\"\n",
              "            style=\"display:none;\">\n",
              "\n",
              "<svg xmlns=\"http://www.w3.org/2000/svg\" height=\"24px\"viewBox=\"0 0 24 24\"\n",
              "     width=\"24px\">\n",
              "    <g>\n",
              "        <path d=\"M19 3H5c-1.1 0-2 .9-2 2v14c0 1.1.9 2 2 2h14c1.1 0 2-.9 2-2V5c0-1.1-.9-2-2-2zM9 17H7v-7h2v7zm4 0h-2V7h2v10zm4 0h-2v-4h2v4z\"/>\n",
              "    </g>\n",
              "</svg>\n",
              "  </button>\n",
              "\n",
              "<style>\n",
              "  .colab-df-quickchart {\n",
              "      --bg-color: #E8F0FE;\n",
              "      --fill-color: #1967D2;\n",
              "      --hover-bg-color: #E2EBFA;\n",
              "      --hover-fill-color: #174EA6;\n",
              "      --disabled-fill-color: #AAA;\n",
              "      --disabled-bg-color: #DDD;\n",
              "  }\n",
              "\n",
              "  [theme=dark] .colab-df-quickchart {\n",
              "      --bg-color: #3B4455;\n",
              "      --fill-color: #D2E3FC;\n",
              "      --hover-bg-color: #434B5C;\n",
              "      --hover-fill-color: #FFFFFF;\n",
              "      --disabled-bg-color: #3B4455;\n",
              "      --disabled-fill-color: #666;\n",
              "  }\n",
              "\n",
              "  .colab-df-quickchart {\n",
              "    background-color: var(--bg-color);\n",
              "    border: none;\n",
              "    border-radius: 50%;\n",
              "    cursor: pointer;\n",
              "    display: none;\n",
              "    fill: var(--fill-color);\n",
              "    height: 32px;\n",
              "    padding: 0;\n",
              "    width: 32px;\n",
              "  }\n",
              "\n",
              "  .colab-df-quickchart:hover {\n",
              "    background-color: var(--hover-bg-color);\n",
              "    box-shadow: 0 1px 2px rgba(60, 64, 67, 0.3), 0 1px 3px 1px rgba(60, 64, 67, 0.15);\n",
              "    fill: var(--button-hover-fill-color);\n",
              "  }\n",
              "\n",
              "  .colab-df-quickchart-complete:disabled,\n",
              "  .colab-df-quickchart-complete:disabled:hover {\n",
              "    background-color: var(--disabled-bg-color);\n",
              "    fill: var(--disabled-fill-color);\n",
              "    box-shadow: none;\n",
              "  }\n",
              "\n",
              "  .colab-df-spinner {\n",
              "    border: 2px solid var(--fill-color);\n",
              "    border-color: transparent;\n",
              "    border-bottom-color: var(--fill-color);\n",
              "    animation:\n",
              "      spin 1s steps(1) infinite;\n",
              "  }\n",
              "\n",
              "  @keyframes spin {\n",
              "    0% {\n",
              "      border-color: transparent;\n",
              "      border-bottom-color: var(--fill-color);\n",
              "      border-left-color: var(--fill-color);\n",
              "    }\n",
              "    20% {\n",
              "      border-color: transparent;\n",
              "      border-left-color: var(--fill-color);\n",
              "      border-top-color: var(--fill-color);\n",
              "    }\n",
              "    30% {\n",
              "      border-color: transparent;\n",
              "      border-left-color: var(--fill-color);\n",
              "      border-top-color: var(--fill-color);\n",
              "      border-right-color: var(--fill-color);\n",
              "    }\n",
              "    40% {\n",
              "      border-color: transparent;\n",
              "      border-right-color: var(--fill-color);\n",
              "      border-top-color: var(--fill-color);\n",
              "    }\n",
              "    60% {\n",
              "      border-color: transparent;\n",
              "      border-right-color: var(--fill-color);\n",
              "    }\n",
              "    80% {\n",
              "      border-color: transparent;\n",
              "      border-right-color: var(--fill-color);\n",
              "      border-bottom-color: var(--fill-color);\n",
              "    }\n",
              "    90% {\n",
              "      border-color: transparent;\n",
              "      border-bottom-color: var(--fill-color);\n",
              "    }\n",
              "  }\n",
              "</style>\n",
              "\n",
              "  <script>\n",
              "    async function quickchart(key) {\n",
              "      const quickchartButtonEl =\n",
              "        document.querySelector('#' + key + ' button');\n",
              "      quickchartButtonEl.disabled = true;  // To prevent multiple clicks.\n",
              "      quickchartButtonEl.classList.add('colab-df-spinner');\n",
              "      try {\n",
              "        const charts = await google.colab.kernel.invokeFunction(\n",
              "            'suggestCharts', [key], {});\n",
              "      } catch (error) {\n",
              "        console.error('Error during call to suggestCharts:', error);\n",
              "      }\n",
              "      quickchartButtonEl.classList.remove('colab-df-spinner');\n",
              "      quickchartButtonEl.classList.add('colab-df-quickchart-complete');\n",
              "    }\n",
              "    (() => {\n",
              "      let quickchartButtonEl =\n",
              "        document.querySelector('#df-2c1ed788-5deb-4a8c-a5b2-2a857e5bc5d4 button');\n",
              "      quickchartButtonEl.style.display =\n",
              "        google.colab.kernel.accessAllowed ? 'block' : 'none';\n",
              "    })();\n",
              "  </script>\n",
              "</div>\n",
              "\n",
              "    </div>\n",
              "  </div>\n"
            ],
            "application/vnd.google.colaboratory.intrinsic+json": {
              "type": "dataframe",
              "variable_name": "df",
              "summary": "{\n  \"name\": \"df\",\n  \"rows\": 1898,\n  \"fields\": [\n    {\n      \"column\": \"order_id\",\n      \"properties\": {\n        \"dtype\": \"number\",\n        \"std\": 548,\n        \"min\": 1476547,\n        \"max\": 1478444,\n        \"num_unique_values\": 1898,\n        \"samples\": [\n          1477722,\n          1478319,\n          1477650\n        ],\n        \"semantic_type\": \"\",\n        \"description\": \"\"\n      }\n    },\n    {\n      \"column\": \"customer_id\",\n      \"properties\": {\n        \"dtype\": \"number\",\n        \"std\": 113698,\n        \"min\": 1311,\n        \"max\": 405334,\n        \"num_unique_values\": 1200,\n        \"samples\": [\n          351329,\n          49987,\n          345899\n        ],\n        \"semantic_type\": \"\",\n        \"description\": \"\"\n      }\n    },\n    {\n      \"column\": \"restaurant_name\",\n      \"properties\": {\n        \"dtype\": \"category\",\n        \"num_unique_values\": 178,\n        \"samples\": [\n          \"Tortaria\",\n          \"Osteria Morini\",\n          \"Philippe Chow\"\n        ],\n        \"semantic_type\": \"\",\n        \"description\": \"\"\n      }\n    },\n    {\n      \"column\": \"cuisine_type\",\n      \"properties\": {\n        \"dtype\": \"category\",\n        \"num_unique_values\": 14,\n        \"samples\": [\n          \"Thai\",\n          \"French\",\n          \"Korean\"\n        ],\n        \"semantic_type\": \"\",\n        \"description\": \"\"\n      }\n    },\n    {\n      \"column\": \"cost_of_the_order\",\n      \"properties\": {\n        \"dtype\": \"number\",\n        \"std\": 7.48381211004957,\n        \"min\": 4.47,\n        \"max\": 35.41,\n        \"num_unique_values\": 312,\n        \"samples\": [\n          21.29,\n          7.18,\n          13.34\n        ],\n        \"semantic_type\": \"\",\n        \"description\": \"\"\n      }\n    },\n    {\n      \"column\": \"day_of_the_week\",\n      \"properties\": {\n        \"dtype\": \"category\",\n        \"num_unique_values\": 2,\n        \"samples\": [\n          \"Weekday\",\n          \"Weekend\"\n        ],\n        \"semantic_type\": \"\",\n        \"description\": \"\"\n      }\n    },\n    {\n      \"column\": \"rating\",\n      \"properties\": {\n        \"dtype\": \"category\",\n        \"num_unique_values\": 4,\n        \"samples\": [\n          \"5\",\n          \"4\"\n        ],\n        \"semantic_type\": \"\",\n        \"description\": \"\"\n      }\n    },\n    {\n      \"column\": \"food_preparation_time\",\n      \"properties\": {\n        \"dtype\": \"number\",\n        \"std\": 4,\n        \"min\": 20,\n        \"max\": 35,\n        \"num_unique_values\": 16,\n        \"samples\": [\n          25,\n          23\n        ],\n        \"semantic_type\": \"\",\n        \"description\": \"\"\n      }\n    },\n    {\n      \"column\": \"delivery_time\",\n      \"properties\": {\n        \"dtype\": \"number\",\n        \"std\": 4,\n        \"min\": 15,\n        \"max\": 33,\n        \"num_unique_values\": 19,\n        \"samples\": [\n          20,\n          21\n        ],\n        \"semantic_type\": \"\",\n        \"description\": \"\"\n      }\n    }\n  ]\n}"
            }
          },
          "metadata": {},
          "execution_count": 6
        }
      ],
      "source": [
        "# Read the data\n",
        "df = pd.read_csv('/content/drive/MyDrive/Colab Notebooks/UT Austin AI Course/foodhub_order.csv') ## Fill the blank to read the data\n",
        "# Returns the first 5 rows\n",
        "df.head()"
      ]
    },
    {
      "cell_type": "markdown",
      "metadata": {
        "id": "AeR7rXZF2rdE"
      },
      "source": [
        "### **Question 1:** How many rows and columns are present in the data? [0.5 mark]"
      ]
    },
    {
      "cell_type": "code",
      "execution_count": null,
      "metadata": {
        "id": "xaLu_bAm2rdE",
        "colab": {
          "base_uri": "https://localhost:8080/"
        },
        "outputId": "f9985fcf-d2db-4ecd-d183-2c52860d0431"
      },
      "outputs": [
        {
          "output_type": "execute_result",
          "data": {
            "text/plain": [
              "(1898, 9)"
            ]
          },
          "metadata": {},
          "execution_count": 4
        }
      ],
      "source": [
        "# Check the shape of the dataset\n",
        "df.shape ## Fill in the blank"
      ]
    },
    {
      "cell_type": "markdown",
      "source": [
        "**There are 1898 rows and 9 columns in our data**"
      ],
      "metadata": {
        "id": "TAJT53xH1pk0"
      }
    },
    {
      "cell_type": "markdown",
      "metadata": {
        "id": "-YJkCL112rdF"
      },
      "source": [
        "### **Question 2:** What are the datatypes of the different columns in the dataset? [0.5 mark]"
      ]
    },
    {
      "cell_type": "code",
      "execution_count": null,
      "metadata": {
        "id": "EUXmdNxe2rdF",
        "colab": {
          "base_uri": "https://localhost:8080/"
        },
        "outputId": "5895ab70-b6ea-4ad1-b7ab-9842178fc76c"
      },
      "outputs": [
        {
          "output_type": "stream",
          "name": "stdout",
          "text": [
            "<class 'pandas.core.frame.DataFrame'>\n",
            "RangeIndex: 1898 entries, 0 to 1897\n",
            "Data columns (total 9 columns):\n",
            " #   Column                 Non-Null Count  Dtype  \n",
            "---  ------                 --------------  -----  \n",
            " 0   order_id               1898 non-null   int64  \n",
            " 1   customer_id            1898 non-null   int64  \n",
            " 2   restaurant_name        1898 non-null   object \n",
            " 3   cuisine_type           1898 non-null   object \n",
            " 4   cost_of_the_order      1898 non-null   float64\n",
            " 5   day_of_the_week        1898 non-null   object \n",
            " 6   rating                 1898 non-null   object \n",
            " 7   food_preparation_time  1898 non-null   int64  \n",
            " 8   delivery_time          1898 non-null   int64  \n",
            "dtypes: float64(1), int64(4), object(4)\n",
            "memory usage: 133.6+ KB\n"
          ]
        }
      ],
      "source": [
        "df.info()"
      ]
    },
    {
      "cell_type": "markdown",
      "source": [
        "**Details of the data types are listed above**"
      ],
      "metadata": {
        "id": "9Sj_rRSn1-sM"
      }
    },
    {
      "cell_type": "markdown",
      "metadata": {
        "id": "Atn8lGeE2rdF"
      },
      "source": [
        "### **Question 3:** Are there any missing values in the data? If yes, treat them using an appropriate method.  [1 Mark]"
      ]
    },
    {
      "cell_type": "code",
      "execution_count": null,
      "metadata": {
        "id": "kZbMrwFC2rdG",
        "colab": {
          "base_uri": "https://localhost:8080/"
        },
        "outputId": "644c1b0f-060d-41fc-e01c-d7a81427f450"
      },
      "outputs": [
        {
          "output_type": "execute_result",
          "data": {
            "text/plain": [
              "order_id                 0\n",
              "customer_id              0\n",
              "restaurant_name          0\n",
              "cuisine_type             0\n",
              "cost_of_the_order        0\n",
              "day_of_the_week          0\n",
              "rating                   0\n",
              "food_preparation_time    0\n",
              "delivery_time            0\n",
              "dtype: int64"
            ]
          },
          "metadata": {},
          "execution_count": 8
        }
      ],
      "source": [
        "# Checking for missing values in the data\n",
        "df.isnull().sum()  #Write the appropriate function to print the sum of null values for each column"
      ]
    },
    {
      "cell_type": "markdown",
      "source": [
        "**There aren't any missing values in our data! 🙂**"
      ],
      "metadata": {
        "id": "wxCf5-9x2xpx"
      }
    },
    {
      "cell_type": "markdown",
      "metadata": {
        "id": "krjqvuKv2rdG"
      },
      "source": [
        "### **Question 4:** Check the statistical summary of the data. What is the minimum, average, and maximum time it takes for food to be prepared once an order is placed? [2 marks]"
      ]
    },
    {
      "cell_type": "code",
      "execution_count": null,
      "metadata": {
        "id": "MDZkL24f2rdG",
        "colab": {
          "base_uri": "https://localhost:8080/"
        },
        "outputId": "c9c55041-1792-4d73-9f3f-9ffe22889929"
      },
      "outputs": [
        {
          "output_type": "execute_result",
          "data": {
            "text/plain": [
              "count    1898.000000\n",
              "mean       27.371970\n",
              "std         4.632481\n",
              "min        20.000000\n",
              "25%        23.000000\n",
              "50%        27.000000\n",
              "75%        31.000000\n",
              "max        35.000000\n",
              "Name: food_preparation_time, dtype: float64"
            ]
          },
          "metadata": {},
          "execution_count": 9
        }
      ],
      "source": [
        "# Get the summary statistics of the numerical data\n",
        "df['food_preparation_time'].describe() ## Write the appropriate function to print the statitical summary of the data (Hint - you have seen this in the case studies before)"
      ]
    },
    {
      "cell_type": "markdown",
      "source": [
        "*   **Minimum**: 20 minutes\n",
        "*   **Maximum**: 35 minutes\n",
        "*   **Average**: 27.37 minutes\n"
      ],
      "metadata": {
        "id": "M-UrUgov3Y11"
      }
    },
    {
      "cell_type": "markdown",
      "metadata": {
        "id": "LDlbXZWG2rdH"
      },
      "source": [
        "### **Question 5:** How many orders are not rated? [1 mark]"
      ]
    },
    {
      "cell_type": "code",
      "execution_count": null,
      "metadata": {
        "id": "RUJo1me22rdH",
        "colab": {
          "base_uri": "https://localhost:8080/"
        },
        "outputId": "0fafca89-a393-4ceb-d93c-696c71fbb8f2"
      },
      "outputs": [
        {
          "output_type": "execute_result",
          "data": {
            "text/plain": [
              "Not given    736\n",
              "5            588\n",
              "4            386\n",
              "3            188\n",
              "Name: rating, dtype: int64"
            ]
          },
          "metadata": {},
          "execution_count": 10
        }
      ],
      "source": [
        "df['rating'].value_counts() ## Complete the code"
      ]
    },
    {
      "cell_type": "markdown",
      "source": [
        "**736 orders are not rated because in the data they are not given**"
      ],
      "metadata": {
        "id": "NhtP7ITK5YXp"
      }
    },
    {
      "cell_type": "markdown",
      "metadata": {
        "id": "LUh8hTiW2rdH"
      },
      "source": [
        "### Exploratory Data Analysis (EDA)"
      ]
    },
    {
      "cell_type": "markdown",
      "metadata": {
        "id": "2Dl2aL1W2rdI"
      },
      "source": [
        "### Univariate Analysis"
      ]
    },
    {
      "cell_type": "markdown",
      "metadata": {
        "id": "gxBiurJ-2rdI"
      },
      "source": [
        "### **Question 6:** Explore all the variables and provide observations on their distributions. (Generally, histograms, boxplots, countplots, etc. are used for univariate exploration.) [9 marks]"
      ]
    },
    {
      "cell_type": "markdown",
      "metadata": {
        "id": "TXEjEAXqbZmQ"
      },
      "source": [
        "#### Order ID"
      ]
    },
    {
      "cell_type": "code",
      "execution_count": null,
      "metadata": {
        "id": "cmmmjUyebZmQ",
        "colab": {
          "base_uri": "https://localhost:8080/"
        },
        "outputId": "23d2046e-c042-4139-e2d3-396e2960a6c3"
      },
      "outputs": [
        {
          "output_type": "execute_result",
          "data": {
            "text/plain": [
              "1898"
            ]
          },
          "metadata": {},
          "execution_count": 11
        }
      ],
      "source": [
        "# check unique order ID\n",
        "df['order_id'].nunique()"
      ]
    },
    {
      "cell_type": "markdown",
      "metadata": {
        "id": "ts6l2h0abZmQ"
      },
      "source": [
        "#### Customer ID"
      ]
    },
    {
      "cell_type": "code",
      "execution_count": null,
      "metadata": {
        "id": "yZRW2FBSbZmQ",
        "colab": {
          "base_uri": "https://localhost:8080/"
        },
        "outputId": "110521ca-3621-4512-e229-4e183a93ce61"
      },
      "outputs": [
        {
          "output_type": "execute_result",
          "data": {
            "text/plain": [
              "1200"
            ]
          },
          "metadata": {},
          "execution_count": 12
        }
      ],
      "source": [
        "# check unique customer ID\n",
        "df['customer_id'].nunique()  ## Complete the code to find out number of unique Customer ID"
      ]
    },
    {
      "cell_type": "markdown",
      "metadata": {
        "id": "mgv5gIIEbZmR"
      },
      "source": [
        "#### Restaurant name"
      ]
    },
    {
      "cell_type": "code",
      "execution_count": null,
      "metadata": {
        "id": "GYGzUuzcbZmR",
        "colab": {
          "base_uri": "https://localhost:8080/"
        },
        "outputId": "6846a4ef-9bc0-485d-eba6-c8eed2ab639c"
      },
      "outputs": [
        {
          "output_type": "execute_result",
          "data": {
            "text/plain": [
              "178"
            ]
          },
          "metadata": {},
          "execution_count": 13
        }
      ],
      "source": [
        "# check unique Restaurant Name\n",
        "df['restaurant_name'].nunique()  ## Complete the code to find out number of unique Restaurant Name"
      ]
    },
    {
      "cell_type": "markdown",
      "metadata": {
        "id": "X7jR8GHN2rdK"
      },
      "source": [
        "#### Cuisine type"
      ]
    },
    {
      "cell_type": "code",
      "execution_count": null,
      "metadata": {
        "id": "uFd2adxc2rdK",
        "colab": {
          "base_uri": "https://localhost:8080/"
        },
        "outputId": "b7ff8005-317f-45f8-9f58-c599a16eb455"
      },
      "outputs": [
        {
          "output_type": "execute_result",
          "data": {
            "text/plain": [
              "14"
            ]
          },
          "metadata": {},
          "execution_count": 14
        }
      ],
      "source": [
        "# Check unique cuisine type\n",
        "df['cuisine_type'].nunique() ## Complete the code to find out  number of  unique cuisine type"
      ]
    },
    {
      "cell_type": "code",
      "execution_count": null,
      "metadata": {
        "id": "4JHi590P2rdK",
        "scrolled": true,
        "colab": {
          "base_uri": "https://localhost:8080/",
          "height": 503
        },
        "outputId": "f0c33f4e-38ee-45fa-df2d-dd7e356b822e"
      },
      "outputs": [
        {
          "output_type": "execute_result",
          "data": {
            "text/plain": [
              "<Axes: xlabel='cuisine_type', ylabel='count'>"
            ]
          },
          "metadata": {},
          "execution_count": 15
        },
        {
          "output_type": "display_data",
          "data": {
            "text/plain": [
              "<Figure size 1500x500 with 1 Axes>"
            ],
            "image/png": "[encoded data removed]"
          },
          "metadata": {}
        }
      ],
      "source": [
        "plt.figure(figsize = (15,5))\n",
        "sns.countplot(data = df, x = 'cuisine_type') ## Create a countplot for cuisine type."
      ]
    },
    {
      "cell_type": "markdown",
      "source": [
        "**There is a large amount of Japanese and American food cuisine orders in our dataset**\n",
        "\n",
        "This distribution shows that American (584 orders) and Japanese (470 orders) cuisines are the most popular among the orders, with the largest number of orders. In contrast, Vietnamese, Spanish, Korean, and several other cuisines have fewer orders, indicating a preference or availability bias towards certain cuisines within this dataset"
      ],
      "metadata": {
        "id": "oO9lq1Ux95Mg"
      }
    },
    {
      "cell_type": "markdown",
      "metadata": {
        "id": "fmWW_qb42rdL"
      },
      "source": [
        "#### Cost of the order"
      ]
    },
    {
      "cell_type": "code",
      "execution_count": null,
      "metadata": {
        "id": "kq1lIbf42rdL",
        "scrolled": false,
        "colab": {
          "base_uri": "https://localhost:8080/",
          "height": 883
        },
        "outputId": "63e79edc-bb6b-4673-efd9-5d4df4709454"
      },
      "outputs": [
        {
          "output_type": "display_data",
          "data": {
            "text/plain": [
              "<Figure size 640x480 with 1 Axes>"
            ],
            "image/png": "[encoded data removed]"
          },
          "metadata": {}
        },
        {
          "output_type": "display_data",
          "data": {
            "text/plain": [
              "<Figure size 640x480 with 1 Axes>"
            ],
            "image/png": "[encoded data removed]"
          },
          "metadata": {}
        }
      ],
      "source": [
        "sns.histplot(data=df,x='cost_of_the_order') ## Histogram for the cost of order\n",
        "plt.show()\n",
        "sns.boxplot(data=df,x='cost_of_the_order') ## Boxplot for the cost of order\n",
        "plt.show()"
      ]
    },
    {
      "cell_type": "markdown",
      "source": [
        "**The orders are priced fairly moderately with most orders in the $10-15 range**\n",
        "\n",
        "The data is right-skewed and the presence of orders costing near the maximum suggests there are some relatively expensive orders, but the bulk of the orders are more moderately priced, as reflected by the median and the quartiles"
      ],
      "metadata": {
        "id": "xE5ya4OpAMhJ"
      }
    },
    {
      "cell_type": "markdown",
      "metadata": {
        "id": "p34KqEqx2rdL"
      },
      "source": [
        "#### Day of the week"
      ]
    },
    {
      "cell_type": "code",
      "execution_count": null,
      "metadata": {
        "id": "KBMjgXjv2rdL",
        "colab": {
          "base_uri": "https://localhost:8080/"
        },
        "outputId": "1138d412-78f9-438d-a383-6adc2ec7a24d"
      },
      "outputs": [
        {
          "output_type": "execute_result",
          "data": {
            "text/plain": [
              "2"
            ]
          },
          "metadata": {},
          "execution_count": 17
        }
      ],
      "source": [
        "# # Check the unique values\n",
        "df['day_of_the_week'].nunique() ## Complete the code to check unique values for the 'day_of_the_week' column"
      ]
    },
    {
      "cell_type": "code",
      "execution_count": null,
      "metadata": {
        "id": "Q5jvwJkZ2rdL",
        "scrolled": false,
        "colab": {
          "base_uri": "https://localhost:8080/",
          "height": 468
        },
        "outputId": "d261e6e0-2445-45c0-c557-73026ee83baa"
      },
      "outputs": [
        {
          "output_type": "execute_result",
          "data": {
            "text/plain": [
              "<Axes: xlabel='day_of_the_week', ylabel='count'>"
            ]
          },
          "metadata": {},
          "execution_count": 18
        },
        {
          "output_type": "display_data",
          "data": {
            "text/plain": [
              "<Figure size 640x480 with 1 Axes>"
            ],
            "image/png": "[encoded data removed]"
          },
          "metadata": {}
        }
      ],
      "source": [
        "sns.countplot(data = df, x = 'day_of_the_week') ## Complete the code to plot a bar graph for 'day_of_the_week' column"
      ]
    },
    {
      "cell_type": "markdown",
      "source": [
        "**The majority of orders (~70%) were placed on the weekend**\n",
        "\n",
        "This data shows a significant preference for placing food orders during the weekend, with more than twice as many orders on weekends compared to weekdays. This pattern could suggest that customers are more likely to order food for delivery when they are off work or engaged in leisure activities, highlighting weekends as peak times for the food delivery service"
      ],
      "metadata": {
        "id": "LAjxsdrnId44"
      }
    },
    {
      "cell_type": "markdown",
      "metadata": {
        "id": "1oOW_lzO2rdL"
      },
      "source": [
        "#### Rating"
      ]
    },
    {
      "cell_type": "code",
      "execution_count": null,
      "metadata": {
        "id": "TNxjskCF2rdL",
        "scrolled": true,
        "colab": {
          "base_uri": "https://localhost:8080/"
        },
        "outputId": "84a23401-e719-4fa5-e8e3-fdf473190973"
      },
      "outputs": [
        {
          "output_type": "execute_result",
          "data": {
            "text/plain": [
              "4"
            ]
          },
          "metadata": {},
          "execution_count": 19
        }
      ],
      "source": [
        "# Check the unique values\n",
        "df['rating'].nunique() ## Complete the code to check unique values for the 'rating' column"
      ]
    },
    {
      "cell_type": "code",
      "source": [
        "# Count the number of orders for each rating\n",
        "df['rating'].value_counts()"
      ],
      "metadata": {
        "colab": {
          "base_uri": "https://localhost:8080/"
        },
        "id": "JeZ1PpIxJ_jn",
        "outputId": "4f232031-95c1-41ed-bbfc-6614c4621a0a"
      },
      "execution_count": null,
      "outputs": [
        {
          "output_type": "execute_result",
          "data": {
            "text/plain": [
              "Not given    736\n",
              "5            588\n",
              "4            386\n",
              "3            188\n",
              "Name: rating, dtype: int64"
            ]
          },
          "metadata": {},
          "execution_count": 22
        }
      ]
    },
    {
      "cell_type": "code",
      "execution_count": null,
      "metadata": {
        "id": "aP_djdHY2rdM",
        "scrolled": true,
        "colab": {
          "base_uri": "https://localhost:8080/",
          "height": 467
        },
        "outputId": "477777aa-24bb-495b-a176-4883b698daf9"
      },
      "outputs": [
        {
          "output_type": "execute_result",
          "data": {
            "text/plain": [
              "<Axes: xlabel='rating', ylabel='count'>"
            ]
          },
          "metadata": {},
          "execution_count": 20
        },
        {
          "output_type": "display_data",
          "data": {
            "text/plain": [
              "<Figure size 640x480 with 1 Axes>"
            ],
            "image/png": "[encoded data removed]"
          },
          "metadata": {}
        }
      ],
      "source": [
        "sns.countplot(data = df, x = 'rating') ## Complete the code to plot bar graph for 'rating' column"
      ]
    },
    {
      "cell_type": "markdown",
      "source": [
        "**About 38% of the orders were not rated, but a significant portion of orders rated were in the five and four star range**\n",
        "\n",
        "We can conclude:\n",
        "\n",
        "1.   A significant proportion of orders were not rated: Nearly 39% of all orders did not have a given rating. This could be due to customers choosing not to leave feedback or the absence of a requirement for customers to rate their orders.\n",
        "2.   High satisfaction among those who rated: Among the orders that were rated, a considerable portion received high ratings (5 and 4), indicating a generally positive experience. Specifically, more than half of the rated orders (about 51% when considering only the rated orders) received the highest rating of 5.\n",
        "\n",
        "3. Lower instances of medium satisfaction: Only about 10% of orders received a rating of 3, indicating fewer orders fell into the medium satisfaction category.\n",
        "\n",
        "Overall, the ratings suggest that when customers chose to rate their orders, they were predominantly satisfied with their experience. However, the high percentage of orders not rated points to a potential area for improvement in encouraging or incentivizing customers to provide feedback."
      ],
      "metadata": {
        "id": "fsltgm83JPs7"
      }
    },
    {
      "cell_type": "markdown",
      "metadata": {
        "id": "OP1gYWnR2rdM"
      },
      "source": [
        "#### Food Preparation time"
      ]
    },
    {
      "cell_type": "code",
      "execution_count": null,
      "metadata": {
        "id": "TYiF3h3t2rdM",
        "scrolled": true,
        "colab": {
          "base_uri": "https://localhost:8080/",
          "height": 883
        },
        "outputId": "210a66df-f524-400c-e758-60d690458091"
      },
      "outputs": [
        {
          "output_type": "display_data",
          "data": {
            "text/plain": [
              "<Figure size 640x480 with 1 Axes>"
            ],
            "image/png": "[encoded data removed]"
          },
          "metadata": {}
        },
        {
          "output_type": "display_data",
          "data": {
            "text/plain": [
              "<Figure size 640x480 with 1 Axes>"
            ],
            "image/png": "[encoded data removed]"
          },
          "metadata": {}
        }
      ],
      "source": [
        "sns.histplot(data=df,x='food_preparation_time') ## Complete the code to plot the histogram for the cost of order\n",
        "plt.show()\n",
        "sns.boxplot(data=df,x='cost_of_the_order') ## Complete the code to plot the boxplot for the cost of order\n",
        "plt.show()"
      ]
    },
    {
      "cell_type": "markdown",
      "source": [
        "**Food Preparation Time**\n",
        "\n",
        "The histogram for food preparation time shows a fairly symmetrical distribution, indicating that the time taken to prepare food tends to center around a common range. There are no significant outliers, and the distribution appears to be roughly normal. This suggests a consistent level of efficiency across food preparation processes for different orders."
      ],
      "metadata": {
        "id": "s0HcilqiKo8F"
      }
    },
    {
      "cell_type": "markdown",
      "source": [
        "**Cost of the order**\n",
        "\n",
        "The boxplot for the cost of the order reveals a range of order costs with a median below the mean, suggesting a right-skewed distribution. The presence of outliers on the higher cost side indicates that while most of the orders fall within a reasonable price range, there are some orders significantly more expensive than the rest. The interquartile range (IQR) shows the middle 50% of the data, highlighting the variability in order costs."
      ],
      "metadata": {
        "id": "zPoBSLNTLSE-"
      }
    },
    {
      "cell_type": "markdown",
      "source": [
        "**Summary**\n",
        "\n",
        "Food preparation times are generally consistent, pointing towards standardized processes across orders. Order costs, however, vary more significantly, with a skew towards lower-cost orders and some higher-cost outliers. This variation in cost could reflect differences in order type, cuisine specialization, and individual restaurant pricing"
      ],
      "metadata": {
        "id": "EclbfMb6LeAI"
      }
    },
    {
      "cell_type": "markdown",
      "metadata": {
        "id": "ENW0PF5b2rdM"
      },
      "source": [
        "#### Delivery time"
      ]
    },
    {
      "cell_type": "code",
      "execution_count": null,
      "metadata": {
        "id": "_1ZcT_SM2rdM",
        "scrolled": true,
        "colab": {
          "base_uri": "https://localhost:8080/",
          "height": 883
        },
        "outputId": "f18d11cc-6c48-4c4e-807f-192da16ca9e6"
      },
      "outputs": [
        {
          "output_type": "display_data",
          "data": {
            "text/plain": [
              "<Figure size 640x480 with 1 Axes>"
            ],
            "image/png": "[encoded data removed]"
          },
          "metadata": {}
        },
        {
          "output_type": "display_data",
          "data": {
            "text/plain": [
              "<Figure size 640x480 with 1 Axes>"
            ],
            "image/png": "[encoded data removed]"
          },
          "metadata": {}
        }
      ],
      "source": [
        "sns.histplot(data=df,x='delivery_time') ## Complete the code to plot the histogram for the delivery time\n",
        "plt.show()\n",
        "sns.boxplot(data=df,x='delivery_time') ## Complete the code to plot the boxplot for the delivery time\n",
        "plt.show()"
      ]
    },
    {
      "cell_type": "markdown",
      "source": [
        "**Delivery Time Histogram**\n",
        "\n",
        "The histogram shows the distribution of delivery times with a somewhat normal but slightly right-skewed distribution. This indicates that while most deliveries are completed within a certain time frame, there are a few deliveries that take significantly longer than average"
      ],
      "metadata": {
        "id": "rsQMITEvMUk0"
      }
    },
    {
      "cell_type": "markdown",
      "source": [
        "**Delivery Time Boxplot**\n",
        "\n",
        "The boxplot provides a visual summary of the delivery times, showing the median, quartiles, and any potential outliers. The median delivery time is marked by the line inside the box, indicating the midpoint of the data. The interquartile range (IQR) represented by the box shows the middle 50% of the data, highlighting the typical spread of delivery times. In this plot, while there might be slight variations, there doesn't appear to be a significant number of outliers, showing that extreme delivery times are not common."
      ],
      "metadata": {
        "id": "g1rPQxDTMZx5"
      }
    },
    {
      "cell_type": "markdown",
      "source": [
        "**Summary**\n",
        "\n",
        "The delivery time analysis suggests that while the service generally maintains consistent delivery times, there are cases where deliveries take longer. The overall efficiency of the delivery process seems to be strong, with most deliveries falling within an expected range, but there is room for improvement in reducing longer delivery times to improve customer satisfaction."
      ],
      "metadata": {
        "id": "bjdHKmabMqu7"
      }
    },
    {
      "cell_type": "markdown",
      "metadata": {
        "id": "HMwsI8f32rdM"
      },
      "source": [
        "### **Question 7:** Which are the top 5 restaurants in terms of the number of orders received? [1 mark]"
      ]
    },
    {
      "cell_type": "code",
      "execution_count": null,
      "metadata": {
        "id": "OLQISNlc2rdM",
        "colab": {
          "base_uri": "https://localhost:8080/"
        },
        "outputId": "d0c9d63f-7048-4aa5-e00f-df5433766a7a"
      },
      "outputs": [
        {
          "output_type": "execute_result",
          "data": {
            "text/plain": [
              "Shake Shack                  219\n",
              "The Meatball Shop            132\n",
              "Blue Ribbon Sushi            119\n",
              "Blue Ribbon Fried Chicken     96\n",
              "Parm                          68\n",
              "Name: restaurant_name, dtype: int64"
            ]
          },
          "metadata": {},
          "execution_count": 26
        }
      ],
      "source": [
        "# Get top 5 restaurants with highest number of orders\n",
        "df['restaurant_name'].value_counts().head(5) ## Complete the code"
      ]
    },
    {
      "cell_type": "markdown",
      "source": [
        "**Shake Shack, The Meatball Shop, Blue Ribbon Sushi, Blue Ribbon Fried Chicken and Parm had the highest number of orders received**\n",
        "\n"
      ],
      "metadata": {
        "id": "4p-OY3PHNcqv"
      }
    },
    {
      "cell_type": "markdown",
      "metadata": {
        "id": "OV26KAC42rdN"
      },
      "source": [
        "### **Question 8:** Which is the most popular cuisine on weekends? [1 mark]"
      ]
    },
    {
      "cell_type": "code",
      "execution_count": null,
      "metadata": {
        "id": "BqL62Kuu2rdN",
        "colab": {
          "base_uri": "https://localhost:8080/"
        },
        "outputId": "80e4e7fa-6a02-4bb4-a023-7b40db5d3e0d"
      },
      "outputs": [
        {
          "output_type": "execute_result",
          "data": {
            "text/plain": [
              "American    415\n",
              "Name: cuisine_type, dtype: int64"
            ]
          },
          "metadata": {},
          "execution_count": 29
        }
      ],
      "source": [
        "# Get most popular cuisine on weekends\n",
        "df_weekend = df[df['day_of_the_week'] == 'Weekend']\n",
        "df_weekend['cuisine_type'].value_counts().head(1) ## Complete the code to check unique values for the cuisine type on weekend"
      ]
    },
    {
      "cell_type": "markdown",
      "source": [
        "**The most popular cuisine type ordered on weekends is American cuisine, with 415 orders**"
      ],
      "metadata": {
        "id": "njlt6xVNOPx7"
      }
    },
    {
      "cell_type": "markdown",
      "metadata": {
        "id": "UPFNE6Da2rdN"
      },
      "source": [
        "### **Question 9:** What percentage of the orders cost more than 20 dollars? [2 marks]\n"
      ]
    },
    {
      "cell_type": "code",
      "execution_count": null,
      "metadata": {
        "id": "gHlH53rJ2rdN",
        "colab": {
          "base_uri": "https://localhost:8080/"
        },
        "outputId": "8635ce2c-0b27-4f3b-8156-9ef588251e68"
      },
      "outputs": [
        {
          "output_type": "stream",
          "name": "stdout",
          "text": [
            "The number of total orders that cost above 20 dollars is: 555\n",
            "Percentage of orders above 20 dollars: 29.24 %\n"
          ]
        }
      ],
      "source": [
        "# Get orders that cost above 20 dollars\n",
        "df_greater_than_20 = df[df['cost_of_the_order']>20] ## Write the appropriate column name to get the orders having cost above $20\n",
        "\n",
        "# Calculate the number of total orders where the cost is above 20 dollars\n",
        "print('The number of total orders that cost above 20 dollars is:', df_greater_than_20.shape[0])\n",
        "\n",
        "# Calculate percentage of such orders in the dataset\n",
        "percentage = (df_greater_than_20.shape[0] / df.shape[0]) * 100\n",
        "\n",
        "print(\"Percentage of orders above 20 dollars:\", round(percentage, 2), '%')"
      ]
    },
    {
      "cell_type": "markdown",
      "source": [
        "**The number of orders that cost above 20 dollars is 555 and the percentage is 29.24%**"
      ],
      "metadata": {
        "id": "joykaiR8P1Rh"
      }
    },
    {
      "cell_type": "markdown",
      "metadata": {
        "id": "rmOXTij42rdN"
      },
      "source": [
        "### **Question 10:** What is the mean order delivery time? [1 mark]"
      ]
    },
    {
      "cell_type": "code",
      "execution_count": null,
      "metadata": {
        "id": "733fsOoO2rdN",
        "colab": {
          "base_uri": "https://localhost:8080/"
        },
        "outputId": "52d75b74-1b0b-4b95-fb19-664448f711a7"
      },
      "outputs": [
        {
          "output_type": "stream",
          "name": "stdout",
          "text": [
            "The mean delivery time for this dataset is 24.16 minutes\n"
          ]
        }
      ],
      "source": [
        "# Get the mean delivery time\n",
        "mean_del_time = df['delivery_time'].mean()  ## Write the appropriate function to obtain the mean delivery time\n",
        "\n",
        "print('The mean delivery time for this dataset is', round(mean_del_time, 2), 'minutes')"
      ]
    },
    {
      "cell_type": "markdown",
      "source": [
        "**The mean order delivery time is 24.16 minutes**"
      ],
      "metadata": {
        "id": "xNqIvuf6QQNz"
      }
    },
    {
      "cell_type": "markdown",
      "metadata": {
        "id": "7C_G-BEy2rdO"
      },
      "source": [
        "### **Question 11:** The company has decided to give 20% discount vouchers to the top 3 most frequent customers. Find the IDs of these customers and the number of orders they placed. [1 mark]"
      ]
    },
    {
      "cell_type": "code",
      "execution_count": null,
      "metadata": {
        "id": "U-husHb6F5lY",
        "colab": {
          "base_uri": "https://localhost:8080/"
        },
        "outputId": "c2b6ae5b-5cbc-4aa4-eba8-ea5474e03947"
      },
      "outputs": [
        {
          "output_type": "execute_result",
          "data": {
            "text/plain": [
              "52832    13\n",
              "47440    10\n",
              "83287     9\n",
              "Name: customer_id, dtype: int64"
            ]
          },
          "metadata": {},
          "execution_count": 33
        }
      ],
      "source": [
        "# Get the counts of  each customer_id\n",
        "df['customer_id'].value_counts().head(3)  ## Write the appropriate column name to get the top 5 most frequent customers"
      ]
    },
    {
      "cell_type": "markdown",
      "source": [
        "\n",
        "**Top 3 most frequent customers by Customer ID**\n",
        "1.   Customer ID: 52832 with 13 orders\n",
        "2.   Customer ID: 47440 with 10 orders\n",
        "3.   Customer ID: 83287 with 9 orders\n",
        "\n"
      ],
      "metadata": {
        "id": "VnLxvYrbQmGu"
      }
    },
    {
      "cell_type": "code",
      "source": [
        "# Filter the dataset to get the orders placed by the top 3 customers\n",
        "top_customer_orders = df[df['customer_id'].isin([52832, 47440, 83287])]\n",
        "# Sort the table by customer ID\n",
        "top_customers_orders_sorted_by_id = top_customer_orders.sort_values(by='customer_id')\n",
        "# Show the table\n",
        "top_customers_orders_sorted_by_id"
      ],
      "metadata": {
        "colab": {
          "base_uri": "https://localhost:8080/",
          "height": 1000
        },
        "id": "Bo49D2aPRtSE",
        "outputId": "460a0291-4006-4a28-b5dd-1364e1991e19"
      },
      "execution_count": null,
      "outputs": [
        {
          "output_type": "execute_result",
          "data": {
            "text/plain": [
              "      order_id  customer_id              restaurant_name    cuisine_type  \\\n",
              "1811   1477664        47440    Blue Ribbon Fried Chicken        American   \n",
              "264    1477909        47440    Blue Ribbon Fried Chicken        American   \n",
              "1359   1477903        47440                   Bareburger        American   \n",
              "398    1478120        47440    Blue Ribbon Fried Chicken        American   \n",
              "1306   1476559        47440                   Bareburger        American   \n",
              "579    1477178        47440                   Bareburger        American   \n",
              "674    1476982        47440                   Bareburger        American   \n",
              "778    1477481        47440                   Bareburger        American   \n",
              "807    1477594        47440                   Bareburger        American   \n",
              "824    1476854        47440    Blue Ribbon Fried Chicken        American   \n",
              "1483   1477179        52832                    L'Express          French   \n",
              "1110   1477129        52832                  Han Dynasty         Chinese   \n",
              "1105   1478245        52832                       Junoon          Indian   \n",
              "1070   1476828        52832                   Donburi-ya        Japanese   \n",
              "1039   1477013        52832                   Donburi-ya        Japanese   \n",
              "855    1477041        52832                       Junoon          Indian   \n",
              "670    1477302        52832   Don's Bogam BBQ & Wine Bar          Korean   \n",
              "632    1478265        52832                  Dos Caminos         Mexican   \n",
              "526    1478160        52832                   Donburi-ya        Japanese   \n",
              "517    1476916        52832    Dickson's Farmstand Meats        American   \n",
              "272    1477314        52832             ilili Restaurant  Middle Eastern   \n",
              "247    1478179        52832                  Han Dynasty         Chinese   \n",
              "1768   1477075        52832             ilili Restaurant  Middle Eastern   \n",
              "928    1476767        83287    Blue Ribbon Sushi Izakaya        Japanese   \n",
              "1004   1477453        83287                  Shake Shack        American   \n",
              "1018   1478193        83287  Five Guys Burgers and Fries        American   \n",
              "663    1476673        83287    Blue Ribbon Sushi Izakaya        Japanese   \n",
              "1091   1476812        83287                  Shake Shack        American   \n",
              "1310   1477358        83287                     Boqueria         Spanish   \n",
              "1465   1477258        83287    Blue Ribbon Sushi Izakaya        Japanese   \n",
              "1617   1477628        83287    Blue Ribbon Sushi Izakaya        Japanese   \n",
              "103    1476564        83287  Five Guys Burgers and Fries        American   \n",
              "\n",
              "      cost_of_the_order day_of_the_week     rating  food_preparation_time  \\\n",
              "1811              29.30         Weekend          4                     28   \n",
              "264               12.18         Weekend  Not given                     31   \n",
              "1359              16.25         Weekend  Not given                     32   \n",
              "398                8.10         Weekend  Not given                     33   \n",
              "1306              15.57         Weekday          4                     24   \n",
              "579               24.20         Weekend          4                     23   \n",
              "674                8.73         Weekend          5                     21   \n",
              "778               25.22         Weekday          3                     31   \n",
              "807               12.18         Weekday          3                     25   \n",
              "824                6.45         Weekend          4                     30   \n",
              "1483              24.20         Weekday  Not given                     28   \n",
              "1110              19.30         Weekend  Not given                     34   \n",
              "1105              29.49         Weekend          5                     23   \n",
              "1070               6.64         Weekday  Not given                     21   \n",
              "1039               8.01         Weekday          5                     30   \n",
              "855               25.17         Weekday  Not given                     23   \n",
              "670               12.23         Weekend  Not given                     32   \n",
              "632               16.06         Weekend  Not given                     35   \n",
              "526               15.86         Weekday          5                     28   \n",
              "517               15.72         Weekend          4                     23   \n",
              "272                9.46         Weekday          4                     25   \n",
              "247               12.23         Weekend          3                     33   \n",
              "1768              31.43         Weekday          3                     26   \n",
              "928               18.24         Weekend          5                     32   \n",
              "1004               9.41         Weekend          5                     22   \n",
              "1018              16.01         Weekend  Not given                     27   \n",
              "663                9.51         Weekend  Not given                     35   \n",
              "1091               9.02         Weekday          4                     23   \n",
              "1310              14.50         Weekend  Not given                     35   \n",
              "1465              29.10         Weekend  Not given                     32   \n",
              "1617               9.22         Weekend  Not given                     28   \n",
              "103               24.30         Weekend          5                     30   \n",
              "\n",
              "      delivery_time  \n",
              "1811             16  \n",
              "264              23  \n",
              "1359             28  \n",
              "398              22  \n",
              "1306             28  \n",
              "579              23  \n",
              "674              19  \n",
              "778              27  \n",
              "807              24  \n",
              "824              24  \n",
              "1483             24  \n",
              "1110             21  \n",
              "1105             17  \n",
              "1070             29  \n",
              "1039             30  \n",
              "855              24  \n",
              "670              20  \n",
              "632              19  \n",
              "526              28  \n",
              "517              28  \n",
              "272              25  \n",
              "247              27  \n",
              "1768             29  \n",
              "928              22  \n",
              "1004             20  \n",
              "1018             19  \n",
              "663              21  \n",
              "1091             27  \n",
              "1310             29  \n",
              "1465             26  \n",
              "1617             15  \n",
              "103              20  "
            ],
            "text/html": [
              "\n",
              "  <div id=\"df-bbfe90b7-fb24-4a5a-b94d-7683577b21d3\" class=\"colab-df-container\">\n",
              "    <div>\n",
              "<style scoped>\n",
              "    .dataframe tbody tr th:only-of-type {\n",
              "        vertical-align: middle;\n",
              "    }\n",
              "\n",
              "    .dataframe tbody tr th {\n",
              "        vertical-align: top;\n",
              "    }\n",
              "\n",
              "    .dataframe thead th {\n",
              "        text-align: right;\n",
              "    }\n",
              "</style>\n",
              "<table border=\"1\" class=\"dataframe\">\n",
              "  <thead>\n",
              "    <tr style=\"text-align: right;\">\n",
              "      <th></th>\n",
              "      <th>order_id</th>\n",
              "      <th>customer_id</th>\n",
              "      <th>restaurant_name</th>\n",
              "      <th>cuisine_type</th>\n",
              "      <th>cost_of_the_order</th>\n",
              "      <th>day_of_the_week</th>\n",
              "      <th>rating</th>\n",
              "      <th>food_preparation_time</th>\n",
              "      <th>delivery_time</th>\n",
              "    </tr>\n",
              "  </thead>\n",
              "  <tbody>\n",
              "    <tr>\n",
              "      <th>1811</th>\n",
              "      <td>1477664</td>\n",
              "      <td>47440</td>\n",
              "      <td>Blue Ribbon Fried Chicken</td>\n",
              "      <td>American</td>\n",
              "      <td>29.30</td>\n",
              "      <td>Weekend</td>\n",
              "      <td>4</td>\n",
              "      <td>28</td>\n",
              "      <td>16</td>\n",
              "    </tr>\n",
              "    <tr>\n",
              "      <th>264</th>\n",
              "      <td>1477909</td>\n",
              "      <td>47440</td>\n",
              "      <td>Blue Ribbon Fried Chicken</td>\n",
              "      <td>American</td>\n",
              "      <td>12.18</td>\n",
              "      <td>Weekend</td>\n",
              "      <td>Not given</td>\n",
              "      <td>31</td>\n",
              "      <td>23</td>\n",
              "    </tr>\n",
              "    <tr>\n",
              "      <th>1359</th>\n",
              "      <td>1477903</td>\n",
              "      <td>47440</td>\n",
              "      <td>Bareburger</td>\n",
              "      <td>American</td>\n",
              "      <td>16.25</td>\n",
              "      <td>Weekend</td>\n",
              "      <td>Not given</td>\n",
              "      <td>32</td>\n",
              "      <td>28</td>\n",
              "    </tr>\n",
              "    <tr>\n",
              "      <th>398</th>\n",
              "      <td>1478120</td>\n",
              "      <td>47440</td>\n",
              "      <td>Blue Ribbon Fried Chicken</td>\n",
              "      <td>American</td>\n",
              "      <td>8.10</td>\n",
              "      <td>Weekend</td>\n",
              "      <td>Not given</td>\n",
              "      <td>33</td>\n",
              "      <td>22</td>\n",
              "    </tr>\n",
              "    <tr>\n",
              "      <th>1306</th>\n",
              "      <td>1476559</td>\n",
              "      <td>47440</td>\n",
              "      <td>Bareburger</td>\n",
              "      <td>American</td>\n",
              "      <td>15.57</td>\n",
              "      <td>Weekday</td>\n",
              "      <td>4</td>\n",
              "      <td>24</td>\n",
              "      <td>28</td>\n",
              "    </tr>\n",
              "    <tr>\n",
              "      <th>579</th>\n",
              "      <td>1477178</td>\n",
              "      <td>47440</td>\n",
              "      <td>Bareburger</td>\n",
              "      <td>American</td>\n",
              "      <td>24.20</td>\n",
              "      <td>Weekend</td>\n",
              "      <td>4</td>\n",
              "      <td>23</td>\n",
              "      <td>23</td>\n",
              "    </tr>\n",
              "    <tr>\n",
              "      <th>674</th>\n",
              "      <td>1476982</td>\n",
              "      <td>47440</td>\n",
              "      <td>Bareburger</td>\n",
              "      <td>American</td>\n",
              "      <td>8.73</td>\n",
              "      <td>Weekend</td>\n",
              "      <td>5</td>\n",
              "      <td>21</td>\n",
              "      <td>19</td>\n",
              "    </tr>\n",
              "    <tr>\n",
              "      <th>778</th>\n",
              "      <td>1477481</td>\n",
              "      <td>47440</td>\n",
              "      <td>Bareburger</td>\n",
              "      <td>American</td>\n",
              "      <td>25.22</td>\n",
              "      <td>Weekday</td>\n",
              "      <td>3</td>\n",
              "      <td>31</td>\n",
              "      <td>27</td>\n",
              "    </tr>\n",
              "    <tr>\n",
              "      <th>807</th>\n",
              "      <td>1477594</td>\n",
              "      <td>47440</td>\n",
              "      <td>Bareburger</td>\n",
              "      <td>American</td>\n",
              "      <td>12.18</td>\n",
              "      <td>Weekday</td>\n",
              "      <td>3</td>\n",
              "      <td>25</td>\n",
              "      <td>24</td>\n",
              "    </tr>\n",
              "    <tr>\n",
              "      <th>824</th>\n",
              "      <td>1476854</td>\n",
              "      <td>47440</td>\n",
              "      <td>Blue Ribbon Fried Chicken</td>\n",
              "      <td>American</td>\n",
              "      <td>6.45</td>\n",
              "      <td>Weekend</td>\n",
              "      <td>4</td>\n",
              "      <td>30</td>\n",
              "      <td>24</td>\n",
              "    </tr>\n",
              "    <tr>\n",
              "      <th>1483</th>\n",
              "      <td>1477179</td>\n",
              "      <td>52832</td>\n",
              "      <td>L'Express</td>\n",
              "      <td>French</td>\n",
              "      <td>24.20</td>\n",
              "      <td>Weekday</td>\n",
              "      <td>Not given</td>\n",
              "      <td>28</td>\n",
              "      <td>24</td>\n",
              "    </tr>\n",
              "    <tr>\n",
              "      <th>1110</th>\n",
              "      <td>1477129</td>\n",
              "      <td>52832</td>\n",
              "      <td>Han Dynasty</td>\n",
              "      <td>Chinese</td>\n",
              "      <td>19.30</td>\n",
              "      <td>Weekend</td>\n",
              "      <td>Not given</td>\n",
              "      <td>34</td>\n",
              "      <td>21</td>\n",
              "    </tr>\n",
              "    <tr>\n",
              "      <th>1105</th>\n",
              "      <td>1478245</td>\n",
              "      <td>52832</td>\n",
              "      <td>Junoon</td>\n",
              "      <td>Indian</td>\n",
              "      <td>29.49</td>\n",
              "      <td>Weekend</td>\n",
              "      <td>5</td>\n",
              "      <td>23</td>\n",
              "      <td>17</td>\n",
              "    </tr>\n",
              "    <tr>\n",
              "      <th>1070</th>\n",
              "      <td>1476828</td>\n",
              "      <td>52832</td>\n",
              "      <td>Donburi-ya</td>\n",
              "      <td>Japanese</td>\n",
              "      <td>6.64</td>\n",
              "      <td>Weekday</td>\n",
              "      <td>Not given</td>\n",
              "      <td>21</td>\n",
              "      <td>29</td>\n",
              "    </tr>\n",
              "    <tr>\n",
              "      <th>1039</th>\n",
              "      <td>1477013</td>\n",
              "      <td>52832</td>\n",
              "      <td>Donburi-ya</td>\n",
              "      <td>Japanese</td>\n",
              "      <td>8.01</td>\n",
              "      <td>Weekday</td>\n",
              "      <td>5</td>\n",
              "      <td>30</td>\n",
              "      <td>30</td>\n",
              "    </tr>\n",
              "    <tr>\n",
              "      <th>855</th>\n",
              "      <td>1477041</td>\n",
              "      <td>52832</td>\n",
              "      <td>Junoon</td>\n",
              "      <td>Indian</td>\n",
              "      <td>25.17</td>\n",
              "      <td>Weekday</td>\n",
              "      <td>Not given</td>\n",
              "      <td>23</td>\n",
              "      <td>24</td>\n",
              "    </tr>\n",
              "    <tr>\n",
              "      <th>670</th>\n",
              "      <td>1477302</td>\n",
              "      <td>52832</td>\n",
              "      <td>Don's Bogam BBQ &amp; Wine Bar</td>\n",
              "      <td>Korean</td>\n",
              "      <td>12.23</td>\n",
              "      <td>Weekend</td>\n",
              "      <td>Not given</td>\n",
              "      <td>32</td>\n",
              "      <td>20</td>\n",
              "    </tr>\n",
              "    <tr>\n",
              "      <th>632</th>\n",
              "      <td>1478265</td>\n",
              "      <td>52832</td>\n",
              "      <td>Dos Caminos</td>\n",
              "      <td>Mexican</td>\n",
              "      <td>16.06</td>\n",
              "      <td>Weekend</td>\n",
              "      <td>Not given</td>\n",
              "      <td>35</td>\n",
              "      <td>19</td>\n",
              "    </tr>\n",
              "    <tr>\n",
              "      <th>526</th>\n",
              "      <td>1478160</td>\n",
              "      <td>52832</td>\n",
              "      <td>Donburi-ya</td>\n",
              "      <td>Japanese</td>\n",
              "      <td>15.86</td>\n",
              "      <td>Weekday</td>\n",
              "      <td>5</td>\n",
              "      <td>28</td>\n",
              "      <td>28</td>\n",
              "    </tr>\n",
              "    <tr>\n",
              "      <th>517</th>\n",
              "      <td>1476916</td>\n",
              "      <td>52832</td>\n",
              "      <td>Dickson's Farmstand Meats</td>\n",
              "      <td>American</td>\n",
              "      <td>15.72</td>\n",
              "      <td>Weekend</td>\n",
              "      <td>4</td>\n",
              "      <td>23</td>\n",
              "      <td>28</td>\n",
              "    </tr>\n",
              "    <tr>\n",
              "      <th>272</th>\n",
              "      <td>1477314</td>\n",
              "      <td>52832</td>\n",
              "      <td>ilili Restaurant</td>\n",
              "      <td>Middle Eastern</td>\n",
              "      <td>9.46</td>\n",
              "      <td>Weekday</td>\n",
              "      <td>4</td>\n",
              "      <td>25</td>\n",
              "      <td>25</td>\n",
              "    </tr>\n",
              "    <tr>\n",
              "      <th>247</th>\n",
              "      <td>1478179</td>\n",
              "      <td>52832</td>\n",
              "      <td>Han Dynasty</td>\n",
              "      <td>Chinese</td>\n",
              "      <td>12.23</td>\n",
              "      <td>Weekend</td>\n",
              "      <td>3</td>\n",
              "      <td>33</td>\n",
              "      <td>27</td>\n",
              "    </tr>\n",
              "    <tr>\n",
              "      <th>1768</th>\n",
              "      <td>1477075</td>\n",
              "      <td>52832</td>\n",
              "      <td>ilili Restaurant</td>\n",
              "      <td>Middle Eastern</td>\n",
              "      <td>31.43</td>\n",
              "      <td>Weekday</td>\n",
              "      <td>3</td>\n",
              "      <td>26</td>\n",
              "      <td>29</td>\n",
              "    </tr>\n",
              "    <tr>\n",
              "      <th>928</th>\n",
              "      <td>1476767</td>\n",
              "      <td>83287</td>\n",
              "      <td>Blue Ribbon Sushi Izakaya</td>\n",
              "      <td>Japanese</td>\n",
              "      <td>18.24</td>\n",
              "      <td>Weekend</td>\n",
              "      <td>5</td>\n",
              "      <td>32</td>\n",
              "      <td>22</td>\n",
              "    </tr>\n",
              "    <tr>\n",
              "      <th>1004</th>\n",
              "      <td>1477453</td>\n",
              "      <td>83287</td>\n",
              "      <td>Shake Shack</td>\n",
              "      <td>American</td>\n",
              "      <td>9.41</td>\n",
              "      <td>Weekend</td>\n",
              "      <td>5</td>\n",
              "      <td>22</td>\n",
              "      <td>20</td>\n",
              "    </tr>\n",
              "    <tr>\n",
              "      <th>1018</th>\n",
              "      <td>1478193</td>\n",
              "      <td>83287</td>\n",
              "      <td>Five Guys Burgers and Fries</td>\n",
              "      <td>American</td>\n",
              "      <td>16.01</td>\n",
              "      <td>Weekend</td>\n",
              "      <td>Not given</td>\n",
              "      <td>27</td>\n",
              "      <td>19</td>\n",
              "    </tr>\n",
              "    <tr>\n",
              "      <th>663</th>\n",
              "      <td>1476673</td>\n",
              "      <td>83287</td>\n",
              "      <td>Blue Ribbon Sushi Izakaya</td>\n",
              "      <td>Japanese</td>\n",
              "      <td>9.51</td>\n",
              "      <td>Weekend</td>\n",
              "      <td>Not given</td>\n",
              "      <td>35</td>\n",
              "      <td>21</td>\n",
              "    </tr>\n",
              "    <tr>\n",
              "      <th>1091</th>\n",
              "      <td>1476812</td>\n",
              "      <td>83287</td>\n",
              "      <td>Shake Shack</td>\n",
              "      <td>American</td>\n",
              "      <td>9.02</td>\n",
              "      <td>Weekday</td>\n",
              "      <td>4</td>\n",
              "      <td>23</td>\n",
              "      <td>27</td>\n",
              "    </tr>\n",
              "    <tr>\n",
              "      <th>1310</th>\n",
              "      <td>1477358</td>\n",
              "      <td>83287</td>\n",
              "      <td>Boqueria</td>\n",
              "      <td>Spanish</td>\n",
              "      <td>14.50</td>\n",
              "      <td>Weekend</td>\n",
              "      <td>Not given</td>\n",
              "      <td>35</td>\n",
              "      <td>29</td>\n",
              "    </tr>\n",
              "    <tr>\n",
              "      <th>1465</th>\n",
              "      <td>1477258</td>\n",
              "      <td>83287</td>\n",
              "      <td>Blue Ribbon Sushi Izakaya</td>\n",
              "      <td>Japanese</td>\n",
              "      <td>29.10</td>\n",
              "      <td>Weekend</td>\n",
              "      <td>Not given</td>\n",
              "      <td>32</td>\n",
              "      <td>26</td>\n",
              "    </tr>\n",
              "    <tr>\n",
              "      <th>1617</th>\n",
              "      <td>1477628</td>\n",
              "      <td>83287</td>\n",
              "      <td>Blue Ribbon Sushi Izakaya</td>\n",
              "      <td>Japanese</td>\n",
              "      <td>9.22</td>\n",
              "      <td>Weekend</td>\n",
              "      <td>Not given</td>\n",
              "      <td>28</td>\n",
              "      <td>15</td>\n",
              "    </tr>\n",
              "    <tr>\n",
              "      <th>103</th>\n",
              "      <td>1476564</td>\n",
              "      <td>83287</td>\n",
              "      <td>Five Guys Burgers and Fries</td>\n",
              "      <td>American</td>\n",
              "      <td>24.30</td>\n",
              "      <td>Weekend</td>\n",
              "      <td>5</td>\n",
              "      <td>30</td>\n",
              "      <td>20</td>\n",
              "    </tr>\n",
              "  </tbody>\n",
              "</table>\n",
              "</div>\n",
              "    <div class=\"colab-df-buttons\">\n",
              "\n",
              "  <div class=\"colab-df-container\">\n",
              "    <button class=\"colab-df-convert\" onclick=\"convertToInteractive('df-bbfe90b7-fb24-4a5a-b94d-7683577b21d3')\"\n",
              "            title=\"Convert this dataframe to an interactive table.\"\n",
              "            style=\"display:none;\">\n",
              "\n",
              "  <svg xmlns=\"http://www.w3.org/2000/svg\" height=\"24px\" viewBox=\"0 -960 960 960\">\n",
              "    <path d=\"M120-120v-720h720v720H120Zm60-500h600v-160H180v160Zm220 220h160v-160H400v160Zm0 220h160v-160H400v160ZM180-400h160v-160H180v160Zm440 0h160v-160H620v160ZM180-180h160v-160H180v160Zm440 0h160v-160H620v160Z\"/>\n",
              "  </svg>\n",
              "    </button>\n",
              "\n",
              "  <style>\n",
              "    .colab-df-container {\n",
              "      display:flex;\n",
              "      gap: 12px;\n",
              "    }\n",
              "\n",
              "    .colab-df-convert {\n",
              "      background-color: #E8F0FE;\n",
              "      border: none;\n",
              "      border-radius: 50%;\n",
              "      cursor: pointer;\n",
              "      display: none;\n",
              "      fill: #1967D2;\n",
              "      height: 32px;\n",
              "      padding: 0 0 0 0;\n",
              "      width: 32px;\n",
              "    }\n",
              "\n",
              "    .colab-df-convert:hover {\n",
              "      background-color: #E2EBFA;\n",
              "      box-shadow: 0px 1px 2px rgba(60, 64, 67, 0.3), 0px 1px 3px 1px rgba(60, 64, 67, 0.15);\n",
              "      fill: #174EA6;\n",
              "    }\n",
              "\n",
              "    .colab-df-buttons div {\n",
              "      margin-bottom: 4px;\n",
              "    }\n",
              "\n",
              "    [theme=dark] .colab-df-convert {\n",
              "      background-color: #3B4455;\n",
              "      fill: #D2E3FC;\n",
              "    }\n",
              "\n",
              "    [theme=dark] .colab-df-convert:hover {\n",
              "      background-color: #434B5C;\n",
              "      box-shadow: 0px 1px 3px 1px rgba(0, 0, 0, 0.15);\n",
              "      filter: drop-shadow(0px 1px 2px rgba(0, 0, 0, 0.3));\n",
              "      fill: #FFFFFF;\n",
              "    }\n",
              "  </style>\n",
              "\n",
              "    <script>\n",
              "      const buttonEl =\n",
              "        document.querySelector('#df-bbfe90b7-fb24-4a5a-b94d-7683577b21d3 button.colab-df-convert');\n",
              "      buttonEl.style.display =\n",
              "        google.colab.kernel.accessAllowed ? 'block' : 'none';\n",
              "\n",
              "      async function convertToInteractive(key) {\n",
              "        const element = document.querySelector('#df-bbfe90b7-fb24-4a5a-b94d-7683577b21d3');\n",
              "        const dataTable =\n",
              "          await google.colab.kernel.invokeFunction('convertToInteractive',\n",
              "                                                    [key], {});\n",
              "        if (!dataTable) return;\n",
              "\n",
              "        const docLinkHtml = 'Like what you see? Visit the ' +\n",
              "          '<a target=\"_blank\" href=https://colab.research.google.com/notebooks/data_table.ipynb>data table notebook</a>'\n",
              "          + ' to learn more about interactive tables.';\n",
              "        element.innerHTML = '';\n",
              "        dataTable['output_type'] = 'display_data';\n",
              "        await google.colab.output.renderOutput(dataTable, element);\n",
              "        const docLink = document.createElement('div');\n",
              "        docLink.innerHTML = docLinkHtml;\n",
              "        element.appendChild(docLink);\n",
              "      }\n",
              "    </script>\n",
              "  </div>\n",
              "\n",
              "\n",
              "<div id=\"df-d3b53aec-3025-4fb6-8976-26311dc1b8c8\">\n",
              "  <button class=\"colab-df-quickchart\" onclick=\"quickchart('df-d3b53aec-3025-4fb6-8976-26311dc1b8c8')\"\n",
              "            title=\"Suggest charts\"\n",
              "            style=\"display:none;\">\n",
              "\n",
              "<svg xmlns=\"http://www.w3.org/2000/svg\" height=\"24px\"viewBox=\"0 0 24 24\"\n",
              "     width=\"24px\">\n",
              "    <g>\n",
              "        <path d=\"M19 3H5c-1.1 0-2 .9-2 2v14c0 1.1.9 2 2 2h14c1.1 0 2-.9 2-2V5c0-1.1-.9-2-2-2zM9 17H7v-7h2v7zm4 0h-2V7h2v10zm4 0h-2v-4h2v4z\"/>\n",
              "    </g>\n",
              "</svg>\n",
              "  </button>\n",
              "\n",
              "<style>\n",
              "  .colab-df-quickchart {\n",
              "      --bg-color: #E8F0FE;\n",
              "      --fill-color: #1967D2;\n",
              "      --hover-bg-color: #E2EBFA;\n",
              "      --hover-fill-color: #174EA6;\n",
              "      --disabled-fill-color: #AAA;\n",
              "      --disabled-bg-color: #DDD;\n",
              "  }\n",
              "\n",
              "  [theme=dark] .colab-df-quickchart {\n",
              "      --bg-color: #3B4455;\n",
              "      --fill-color: #D2E3FC;\n",
              "      --hover-bg-color: #434B5C;\n",
              "      --hover-fill-color: #FFFFFF;\n",
              "      --disabled-bg-color: #3B4455;\n",
              "      --disabled-fill-color: #666;\n",
              "  }\n",
              "\n",
              "  .colab-df-quickchart {\n",
              "    background-color: var(--bg-color);\n",
              "    border: none;\n",
              "    border-radius: 50%;\n",
              "    cursor: pointer;\n",
              "    display: none;\n",
              "    fill: var(--fill-color);\n",
              "    height: 32px;\n",
              "    padding: 0;\n",
              "    width: 32px;\n",
              "  }\n",
              "\n",
              "  .colab-df-quickchart:hover {\n",
              "    background-color: var(--hover-bg-color);\n",
              "    box-shadow: 0 1px 2px rgba(60, 64, 67, 0.3), 0 1px 3px 1px rgba(60, 64, 67, 0.15);\n",
              "    fill: var(--button-hover-fill-color);\n",
              "  }\n",
              "\n",
              "  .colab-df-quickchart-complete:disabled,\n",
              "  .colab-df-quickchart-complete:disabled:hover {\n",
              "    background-color: var(--disabled-bg-color);\n",
              "    fill: var(--disabled-fill-color);\n",
              "    box-shadow: none;\n",
              "  }\n",
              "\n",
              "  .colab-df-spinner {\n",
              "    border: 2px solid var(--fill-color);\n",
              "    border-color: transparent;\n",
              "    border-bottom-color: var(--fill-color);\n",
              "    animation:\n",
              "      spin 1s steps(1) infinite;\n",
              "  }\n",
              "\n",
              "  @keyframes spin {\n",
              "    0% {\n",
              "      border-color: transparent;\n",
              "      border-bottom-color: var(--fill-color);\n",
              "      border-left-color: var(--fill-color);\n",
              "    }\n",
              "    20% {\n",
              "      border-color: transparent;\n",
              "      border-left-color: var(--fill-color);\n",
              "      border-top-color: var(--fill-color);\n",
              "    }\n",
              "    30% {\n",
              "      border-color: transparent;\n",
              "      border-left-color: var(--fill-color);\n",
              "      border-top-color: var(--fill-color);\n",
              "      border-right-color: var(--fill-color);\n",
              "    }\n",
              "    40% {\n",
              "      border-color: transparent;\n",
              "      border-right-color: var(--fill-color);\n",
              "      border-top-color: var(--fill-color);\n",
              "    }\n",
              "    60% {\n",
              "      border-color: transparent;\n",
              "      border-right-color: var(--fill-color);\n",
              "    }\n",
              "    80% {\n",
              "      border-color: transparent;\n",
              "      border-right-color: var(--fill-color);\n",
              "      border-bottom-color: var(--fill-color);\n",
              "    }\n",
              "    90% {\n",
              "      border-color: transparent;\n",
              "      border-bottom-color: var(--fill-color);\n",
              "    }\n",
              "  }\n",
              "</style>\n",
              "\n",
              "  <script>\n",
              "    async function quickchart(key) {\n",
              "      const quickchartButtonEl =\n",
              "        document.querySelector('#' + key + ' button');\n",
              "      quickchartButtonEl.disabled = true;  // To prevent multiple clicks.\n",
              "      quickchartButtonEl.classList.add('colab-df-spinner');\n",
              "      try {\n",
              "        const charts = await google.colab.kernel.invokeFunction(\n",
              "            'suggestCharts', [key], {});\n",
              "      } catch (error) {\n",
              "        console.error('Error during call to suggestCharts:', error);\n",
              "      }\n",
              "      quickchartButtonEl.classList.remove('colab-df-spinner');\n",
              "      quickchartButtonEl.classList.add('colab-df-quickchart-complete');\n",
              "    }\n",
              "    (() => {\n",
              "      let quickchartButtonEl =\n",
              "        document.querySelector('#df-d3b53aec-3025-4fb6-8976-26311dc1b8c8 button');\n",
              "      quickchartButtonEl.style.display =\n",
              "        google.colab.kernel.accessAllowed ? 'block' : 'none';\n",
              "    })();\n",
              "  </script>\n",
              "</div>\n",
              "\n",
              "  <div id=\"id_1893a80c-3abb-46bd-9718-3954b88a2f9f\">\n",
              "    <style>\n",
              "      .colab-df-generate {\n",
              "        background-color: #E8F0FE;\n",
              "        border: none;\n",
              "        border-radius: 50%;\n",
              "        cursor: pointer;\n",
              "        display: none;\n",
              "        fill: #1967D2;\n",
              "        height: 32px;\n",
              "        padding: 0 0 0 0;\n",
              "        width: 32px;\n",
              "      }\n",
              "\n",
              "      .colab-df-generate:hover {\n",
              "        background-color: #E2EBFA;\n",
              "        box-shadow: 0px 1px 2px rgba(60, 64, 67, 0.3), 0px 1px 3px 1px rgba(60, 64, 67, 0.15);\n",
              "        fill: #174EA6;\n",
              "      }\n",
              "\n",
              "      [theme=dark] .colab-df-generate {\n",
              "        background-color: #3B4455;\n",
              "        fill: #D2E3FC;\n",
              "      }\n",
              "\n",
              "      [theme=dark] .colab-df-generate:hover {\n",
              "        background-color: #434B5C;\n",
              "        box-shadow: 0px 1px 3px 1px rgba(0, 0, 0, 0.15);\n",
              "        filter: drop-shadow(0px 1px 2px rgba(0, 0, 0, 0.3));\n",
              "        fill: #FFFFFF;\n",
              "      }\n",
              "    </style>\n",
              "    <button class=\"colab-df-generate\" onclick=\"generateWithVariable('top_customers_orders_sorted_by_id')\"\n",
              "            title=\"Generate code using this dataframe.\"\n",
              "            style=\"display:none;\">\n",
              "\n",
              "  <svg xmlns=\"http://www.w3.org/2000/svg\" height=\"24px\"viewBox=\"0 0 24 24\"\n",
              "       width=\"24px\">\n",
              "    <path d=\"M7,19H8.4L18.45,9,17,7.55,7,17.6ZM5,21V16.75L18.45,3.32a2,2,0,0,1,2.83,0l1.4,1.43a1.91,1.91,0,0,1,.58,1.4,1.91,1.91,0,0,1-.58,1.4L9.25,21ZM18.45,9,17,7.55Zm-12,3A5.31,5.31,0,0,0,4.9,8.1,5.31,5.31,0,0,0,1,6.5,5.31,5.31,0,0,0,4.9,4.9,5.31,5.31,0,0,0,6.5,1,5.31,5.31,0,0,0,8.1,4.9,5.31,5.31,0,0,0,12,6.5,5.46,5.46,0,0,0,6.5,12Z\"/>\n",
              "  </svg>\n",
              "    </button>\n",
              "    <script>\n",
              "      (() => {\n",
              "      const buttonEl =\n",
              "        document.querySelector('#id_1893a80c-3abb-46bd-9718-3954b88a2f9f button.colab-df-generate');\n",
              "      buttonEl.style.display =\n",
              "        google.colab.kernel.accessAllowed ? 'block' : 'none';\n",
              "\n",
              "      buttonEl.onclick = () => {\n",
              "        google.colab.notebook.generateWithVariable('top_customers_orders_sorted_by_id');\n",
              "      }\n",
              "      })();\n",
              "    </script>\n",
              "  </div>\n",
              "\n",
              "    </div>\n",
              "  </div>\n"
            ],
            "application/vnd.google.colaboratory.intrinsic+json": {
              "type": "dataframe",
              "variable_name": "top_customers_orders_sorted_by_id",
              "summary": "{\n  \"name\": \"top_customers_orders_sorted_by_id\",\n  \"rows\": 32,\n  \"fields\": [\n    {\n      \"column\": \"order_id\",\n      \"properties\": {\n        \"dtype\": \"number\",\n        \"std\": 530,\n        \"min\": 1476559,\n        \"max\": 1478265,\n        \"num_unique_values\": 32,\n        \"samples\": [\n          1477258,\n          1477041,\n          1477453\n        ],\n        \"semantic_type\": \"\",\n        \"description\": \"\"\n      }\n    },\n    {\n      \"column\": \"customer_id\",\n      \"properties\": {\n        \"dtype\": \"number\",\n        \"std\": 15158,\n        \"min\": 47440,\n        \"max\": 83287,\n        \"num_unique_values\": 3,\n        \"samples\": [\n          47440,\n          52832,\n          83287\n        ],\n        \"semantic_type\": \"\",\n        \"description\": \"\"\n      }\n    },\n    {\n      \"column\": \"restaurant_name\",\n      \"properties\": {\n        \"dtype\": \"category\",\n        \"num_unique_values\": 14,\n        \"samples\": [\n          \"ilili Restaurant\",\n          \"Shake Shack\",\n          \"Blue Ribbon Fried Chicken\"\n        ],\n        \"semantic_type\": \"\",\n        \"description\": \"\"\n      }\n    },\n    {\n      \"column\": \"cuisine_type\",\n      \"properties\": {\n        \"dtype\": \"category\",\n        \"num_unique_values\": 9,\n        \"samples\": [\n          \"Middle Eastern\",\n          \"French\",\n          \"Korean\"\n        ],\n        \"semantic_type\": \"\",\n        \"description\": \"\"\n      }\n    },\n    {\n      \"column\": \"cost_of_the_order\",\n      \"properties\": {\n        \"dtype\": \"number\",\n        \"std\": 7.607487921767521,\n        \"min\": 6.45,\n        \"max\": 31.43,\n        \"num_unique_values\": 29,\n        \"samples\": [\n          9.22,\n          15.86,\n          8.01\n        ],\n        \"semantic_type\": \"\",\n        \"description\": \"\"\n      }\n    },\n    {\n      \"column\": \"day_of_the_week\",\n      \"properties\": {\n        \"dtype\": \"category\",\n        \"num_unique_values\": 2,\n        \"samples\": [\n          \"Weekday\",\n          \"Weekend\"\n        ],\n        \"semantic_type\": \"\",\n        \"description\": \"\"\n      }\n    },\n    {\n      \"column\": \"rating\",\n      \"properties\": {\n        \"dtype\": \"category\",\n        \"num_unique_values\": 4,\n        \"samples\": [\n          \"Not given\",\n          \"3\"\n        ],\n        \"semantic_type\": \"\",\n        \"description\": \"\"\n      }\n    },\n    {\n      \"column\": \"food_preparation_time\",\n      \"properties\": {\n        \"dtype\": \"number\",\n        \"std\": 4,\n        \"min\": 21,\n        \"max\": 35,\n        \"num_unique_values\": 14,\n        \"samples\": [\n          34,\n          26\n        ],\n        \"semantic_type\": \"\",\n        \"description\": \"\"\n      }\n    },\n    {\n      \"column\": \"delivery_time\",\n      \"properties\": {\n        \"dtype\": \"number\",\n        \"std\": 4,\n        \"min\": 15,\n        \"max\": 30,\n        \"num_unique_values\": 15,\n        \"samples\": [\n          29,\n          20\n        ],\n        \"semantic_type\": \"\",\n        \"description\": \"\"\n      }\n    }\n  ]\n}"
            }
          },
          "metadata": {},
          "execution_count": 38
        }
      ]
    },
    {
      "cell_type": "markdown",
      "metadata": {
        "id": "4ceeYAVy2rdO"
      },
      "source": [
        "### Multivariate Analysis"
      ]
    },
    {
      "cell_type": "markdown",
      "metadata": {
        "id": "h-gdOXrS2rdO"
      },
      "source": [
        "### **Question 12:** Perform a multivariate analysis to explore relationships between the important variables in the dataset. (It is a good idea to explore relations between numerical variables as well as relations between numerical and categorical variables) [10 marks]"
      ]
    },
    {
      "cell_type": "markdown",
      "metadata": {
        "id": "sTYfSbdR2rdO"
      },
      "source": [
        "#### Cuisine vs Cost of the order"
      ]
    },
    {
      "cell_type": "code",
      "execution_count": null,
      "metadata": {
        "id": "wzJpBxZQ2rdP",
        "colab": {
          "base_uri": "https://localhost:8080/",
          "height": 582
        },
        "outputId": "98688edc-75ff-4a35-fb73-84396dcb8f08"
      },
      "outputs": [
        {
          "output_type": "stream",
          "name": "stderr",
          "text": [
            "<ipython-input-41-84fcf8149c50>:3: FutureWarning: \n",
            "\n",
            "Passing `palette` without assigning `hue` is deprecated and will be removed in v0.14.0. Assign the `y` variable to `hue` and set `legend=False` for the same effect.\n",
            "\n",
            "  sns.boxplot(y = \"cuisine_type\", x = \"cost_of_the_order\", data = df, palette = 'PuBu')\n"
          ]
        },
        {
          "output_type": "display_data",
          "data": {
            "text/plain": [
              "<Figure size 1500x700 with 1 Axes>"
            ],
            "image/png": "[encoded data removed]"
          },
          "metadata": {}
        }
      ],
      "source": [
        "# Relationship between cost of the order and cuisine type\n",
        "plt.figure(figsize=(15,7))\n",
        "sns.boxplot(y = \"cuisine_type\", x = \"cost_of_the_order\", data = df, palette = 'PuBu')\n",
        "plt.xticks(rotation = 60)\n",
        "plt.show()"
      ]
    },
    {
      "cell_type": "markdown",
      "source": [
        "**Observations based on data plot**\n",
        "\n",
        "1.   Certain cuisines, like Japanese, French, and Middle Eastern, show a wider range in the cost of orders, indicating significant variability in pricing. This might reflect a diversity in menu options, from more affordable to premium dishes\n",
        "2.   Japanese and French cuisines appear to have higher median costs, indicating that these cuisines, on average, offer more expensive dishes. In contrast, cuisines like American and Italian have lower median costs, suggesting more moderate pricing on average\n",
        "3.   There are outliers, especially in cuisines like American, Japanese, and Italian, that point to some orders being significantly more expensive than the typical range for those cuisines. These could be special dishes, large orders, or premium menu items\n",
        "4.   Cuisines with tighter boxes and fewer outliers, such as Korean and Vietnamese, suggest more consistent pricing within those cuisine types. This consistency could imply a more standardized menu or less variation in dish prices\n",
        "5.   Some cuisines like Vietnamese, Mediterranean, and Korean show a lower overall cost range and median, which might indicate these cuisines are more affordable on average compared to others like Southern or Indian\n",
        "\n"
      ],
      "metadata": {
        "id": "3Icq7D7qTZeS"
      }
    },
    {
      "cell_type": "markdown",
      "metadata": {
        "id": "cmf4oTiB2rdQ"
      },
      "source": [
        "#### Cuisine vs Food Preparation time"
      ]
    },
    {
      "cell_type": "code",
      "execution_count": null,
      "metadata": {
        "id": "cfeDWTgN2rdQ",
        "scrolled": true,
        "colab": {
          "base_uri": "https://localhost:8080/",
          "height": 582
        },
        "outputId": "274bbdc0-f8e3-4cd2-e16d-dda5e517439f"
      },
      "outputs": [
        {
          "output_type": "stream",
          "name": "stderr",
          "text": [
            "<ipython-input-40-d46e0e327747>:3: FutureWarning: \n",
            "\n",
            "Passing `palette` without assigning `hue` is deprecated and will be removed in v0.14.0. Assign the `y` variable to `hue` and set `legend=False` for the same effect.\n",
            "\n",
            "  sns.boxplot(x='food_preparation_time', y='cuisine_type', data = df, palette = 'PuBu')  ## Complete the code to visualize the relationship between food preparation time and cuisine type using boxplot\n"
          ]
        },
        {
          "output_type": "display_data",
          "data": {
            "text/plain": [
              "<Figure size 1500x700 with 1 Axes>"
            ],
            "image/png": "[encoded data removed]"
          },
          "metadata": {}
        }
      ],
      "source": [
        "# Relationship between food preparation time and cuisine type\n",
        "plt.figure(figsize=(15,7))\n",
        "sns.boxplot(x='food_preparation_time', y='cuisine_type', data = df, palette = 'PuBu')  ## Complete the code to visualize the relationship between food preparation time and cuisine type using boxplot\n",
        "plt.xticks(rotation = 60)\n",
        "plt.show()"
      ]
    },
    {
      "cell_type": "markdown",
      "source": [
        "**Observations based on data plot**\n",
        "\n",
        "1.   The medians of food preparation times are relatively uniform across different cuisines, suggesting a standardization in the preparation process or a balancing of menu items to ensure consistent preparation times, regardless of the cuisine type\n",
        "2.   While medians are uniform, there's noticeable variability within each cuisine type, as shown by the lengths of the boxes and the whiskers. This indicates that, although the average (median) preparation time is similar, each cuisine includes dishes that vary significantly in preparation time.\n",
        "3.   Several cuisines display outliers like Korean and Japanese, indicating that there are specific dishes within these cuisines that take significantly more or less time to prepare than the majority of dishes. This could be due to the complexity of preparation techniques, special ingredients that require longer cooking times, or simpler dishes that are quicker to prepare.\n",
        "4.   No single cuisine stands out as having a markedly longer or shorter preparation time when considering the median values, which suggests a deliberate effort to keep preparation times manageable across all cuisine offerings. However, the variability and outliers within each cuisine type highlight the diversity of the menu offerings\n",
        "5.   The consistency in median preparation times across cuisines could reflect effective kitchen management and the optimization of preparation processes to meet delivery timelines. The presence of outliers may offer opportunities for menu optimization or could simply reflect the breadth of the culinary experience the service aims to provide.\n",
        "6.   While the boxplot does not single out any one cuisine as being particularly time-intensive or quick to prepare, it does reveal the internal complexity of each cuisine's offerings. For example, cuisines with wider interquartile ranges or more outliers might offer a more diverse menu that spans from quick bites to more elaborate dishes.\n",
        "\n"
      ],
      "metadata": {
        "id": "wzkeDemDaLhT"
      }
    },
    {
      "cell_type": "markdown",
      "metadata": {
        "id": "28L5vjZw2rdQ"
      },
      "source": [
        "#### Day of the Week vs Delivery time"
      ]
    },
    {
      "cell_type": "code",
      "execution_count": null,
      "metadata": {
        "id": "fG3QyQ452rdQ",
        "scrolled": true,
        "colab": {
          "base_uri": "https://localhost:8080/",
          "height": 603
        },
        "outputId": "a500e8dc-a976-4bb4-f878-e5e0f1386499"
      },
      "outputs": [
        {
          "output_type": "stream",
          "name": "stderr",
          "text": [
            "<ipython-input-6-671b71ab996b>:3: FutureWarning: \n",
            "\n",
            "Passing `palette` without assigning `hue` is deprecated and will be removed in v0.14.0. Assign the `x` variable to `hue` and set `legend=False` for the same effect.\n",
            "\n",
            "  sns.boxplot(x='day_of_the_week', y='delivery_time', data=df, palette=\"PuBu\")  ## Complete the code to visualize the relationship between day of the week and delivery time using boxplot\n"
          ]
        },
        {
          "output_type": "display_data",
          "data": {
            "text/plain": [
              "<Figure size 1500x700 with 1 Axes>"
            ],
            "image/png": "[encoded data removed]"
          },
          "metadata": {}
        }
      ],
      "source": [
        "# Relationship between day of the week and delivery time\n",
        "plt.figure(figsize=(15,7))\n",
        "sns.boxplot(x='day_of_the_week', y='delivery_time', data=df, palette=\"PuBu\")  ## Complete the code to visualize the relationship between day of the week and delivery time using boxplot\n",
        "plt.show()"
      ]
    },
    {
      "cell_type": "markdown",
      "source": [
        "**Observations based on data plot**\n",
        "\n",
        "1.   The median delivery time is significantly lower on the weekends than weekdays indicating a systematic variation in how quickly orders are delivered depending on the day. A higher median on weekdays might suggest that delivery takes longer due to higher order volumes or potentially slower traffic conditions\n",
        "2.   There is a greater variability of delivery times for the weekends given the wider IQR which suggests that there is greater inconsistency in times compared to the more consistent weekday delivery times. It could also suggest that there is more volume of orders placed on the weekends versus the weekday, leading to the higher variability\n",
        "3.   Delivery times are consistently longer on weekends so the platform might consider increasing the number of delivery personnel or implementing efficiency measures to improve service during these peak times\n",
        "\n"
      ],
      "metadata": {
        "id": "iMphtVsmiNZ8"
      }
    },
    {
      "cell_type": "markdown",
      "metadata": {
        "id": "UnppMp022rdQ"
      },
      "source": [
        "#### Run the below code and write your observations on the revenue generated by the restaurants."
      ]
    },
    {
      "cell_type": "code",
      "execution_count": null,
      "metadata": {
        "id": "LaDfuzIt2rdR",
        "scrolled": false,
        "colab": {
          "base_uri": "https://localhost:8080/"
        },
        "outputId": "4b2db5f0-70fd-419a-d1ed-1a30f165309e"
      },
      "outputs": [
        {
          "output_type": "execute_result",
          "data": {
            "text/plain": [
              "restaurant_name\n",
              "Shake Shack                      3579.53\n",
              "The Meatball Shop                2145.21\n",
              "Blue Ribbon Sushi                1903.95\n",
              "Blue Ribbon Fried Chicken        1662.29\n",
              "Parm                             1112.76\n",
              "RedFarm Broadway                  965.13\n",
              "RedFarm Hudson                    921.21\n",
              "TAO                               834.50\n",
              "Han Dynasty                       755.29\n",
              "Blue Ribbon Sushi Bar & Grill     666.62\n",
              "Rubirosa                          660.45\n",
              "Sushi of Gari 46                  640.87\n",
              "Nobu Next Door                    623.67\n",
              "Five Guys Burgers and Fries       506.47\n",
              "Name: cost_of_the_order, dtype: float64"
            ]
          },
          "metadata": {},
          "execution_count": 7
        }
      ],
      "source": [
        "df.groupby(['restaurant_name'])['cost_of_the_order'].sum().sort_values(ascending = False).head(14)"
      ]
    },
    {
      "cell_type": "markdown",
      "source": [
        "***Observations***\n",
        "\n",
        "1.   **Shake shack leads in revenue**\n",
        "*   Shake Shack tops the list with a significant revenue of $3579.53, indicating a high volume of orders or higher-priced menu items, making it the most popular or preferred choice among customers on this platform\n",
        "\n",
        "2.   **Diverse Cuisine Representation**\n",
        "*   The list includes a variety of cuisines, from American (Shake Shack, The Meatball Shop, Blue Ribbon Fried Chicken) to Japanese (Blue Ribbon Sushi, Sushi of Gari 46) and Italian (Parm, Rubirosa), suggesting a diverse customer base with varied food preferences\n",
        "\n",
        "3.   **Blue Ribbon Brand Popularity**\n",
        "*   The Blue Ribbon brand appears multiple times (Sushi, Fried Chicken, Sushi Bar & Grill), indicating its popularity across different cuisine types and its success in attracting customers\n",
        "\n",
        "4.   **High End Dining Options**\n",
        "*   Restaurants like TAO and Nobu Next Door, known for their upscale dining experiences, also appear on the list, showing that customers are willing to spend on premium options through the platform\n",
        "\n",
        "5.   **Casual Dining and Fast Food Presence**\n",
        "*   Alongside upscale dining options, the list also includes casual dining and fast-food restaurants like Five Guys Burgers and Fries, showcasing the platform's appeal to a broad range of dining preferences and occasions\n",
        "\n",
        "6.  **Revenue Concentration**\n",
        "*   The descending order of revenue suggests a concentration of spending among the top restaurants. Shake Shack, as the leader, generates significantly more revenue than restaurants further down the list, highlighting the existence of strong preferences or possibly more extensive availability and marketing reach\n",
        "\n",
        "The observations suggest that the platform caters to a wide range of customer preferences, from fast food to upscale dining, with certain restaurants capturing a larger share of the market. The success of these top restaurants could be attributed to several factors, including food quality, brand recognition, menu diversity, and pricing strategies\n",
        "\n"
      ],
      "metadata": {
        "id": "kDUS1LfBkG7Y"
      }
    },
    {
      "cell_type": "markdown",
      "metadata": {
        "id": "lu0o5GkQ2rdR"
      },
      "source": [
        "#### Rating vs Delivery time"
      ]
    },
    {
      "cell_type": "code",
      "execution_count": null,
      "metadata": {
        "id": "NoBGHlPR2rdR",
        "scrolled": true,
        "colab": {
          "base_uri": "https://localhost:8080/",
          "height": 493
        },
        "outputId": "5c230b5f-2bc3-44dc-e69e-e7b040ee8390"
      },
      "outputs": [
        {
          "output_type": "display_data",
          "data": {
            "text/plain": [
              "<Figure size 1500x700 with 1 Axes>"
            ],
            "image/png": "[encoded data removed]"
          },
          "metadata": {}
        }
      ],
      "source": [
        "# Relationship between rating and delivery time\n",
        "plt.figure(figsize=(15, 7))\n",
        "sns.pointplot(x = 'rating', y = 'delivery_time', data = df)\n",
        "plt.show()"
      ]
    },
    {
      "cell_type": "markdown",
      "source": [
        "***Observations***\n",
        "\n",
        "1.   **Lower ratings correlate with longer delivery times**\n",
        "*   The plot shows that shorter delivery times correlate with higher ratings, suggesting that efficiency in delivery impacts customer satisfaction\n",
        "2.   **Delivery time variations are higher amongst orders withlonger delivery times**\n",
        "*   A longer delivery time bar for 3 star reviews suggests greater variability in delivery times for orders with that rating, which indicate inconsistency in delivery performance. The orders with higher ratings and not given ratings Aisne, much lower variability in delivery\n",
        "\n"
      ],
      "metadata": {
        "id": "nYSc0t6-nA1v"
      }
    },
    {
      "cell_type": "markdown",
      "metadata": {
        "id": "EUW_xUEK2rdR"
      },
      "source": [
        "#### Rating vs Food preparation time\n",
        "\n"
      ]
    },
    {
      "cell_type": "code",
      "execution_count": null,
      "metadata": {
        "id": "d7qzVLdE2rdR",
        "scrolled": true,
        "colab": {
          "base_uri": "https://localhost:8080/",
          "height": 603
        },
        "outputId": "86ec30eb-7dd3-442a-e0d4-d75de11b628f"
      },
      "outputs": [
        {
          "output_type": "stream",
          "name": "stderr",
          "text": [
            "<ipython-input-7-fad6b6d95001>:3: FutureWarning: \n",
            "\n",
            "Passing `palette` without assigning `hue` is deprecated and will be removed in v0.14.0. Assign the `x` variable to `hue` and set `legend=False` for the same effect.\n",
            "\n",
            "  sns.pointplot(x='rating', y='food_preparation_time', data=df, palette='PuBu')  ## Complete the code to visualize the relationship between rating and food preparation time using pointplot\n"
          ]
        },
        {
          "output_type": "display_data",
          "data": {
            "text/plain": [
              "<Figure size 1500x700 with 1 Axes>"
            ],
            "image/png": "[encoded data removed]"
          },
          "metadata": {}
        }
      ],
      "source": [
        "# Relationship between rating and food preparation time\n",
        "plt.figure(figsize=(15, 7))\n",
        "sns.pointplot(x='rating', y='food_preparation_time', data=df, palette='PuBu')  ## Complete the code to visualize the relationship between rating and food preparation time using pointplot\n",
        "plt.show()"
      ]
    },
    {
      "cell_type": "markdown",
      "source": [
        "***Observations***\n",
        "\n",
        "1.   Lower ratings are correlated with longer delivery times\n",
        "2.   Variation of food prep times are higher the lower the rating\n",
        "\n"
      ],
      "metadata": {
        "id": "hChR8_v_KAKt"
      }
    },
    {
      "cell_type": "markdown",
      "metadata": {
        "id": "x1xcxS6h2rdS"
      },
      "source": [
        "#### Rating vs Cost of the order"
      ]
    },
    {
      "cell_type": "code",
      "execution_count": null,
      "metadata": {
        "id": "QV1lg0_72rdS",
        "colab": {
          "base_uri": "https://localhost:8080/",
          "height": 603
        },
        "outputId": "b8b81952-7d41-46dc-b528-278e28ddabe3"
      },
      "outputs": [
        {
          "output_type": "stream",
          "name": "stderr",
          "text": [
            "<ipython-input-8-4a242de5869f>:3: FutureWarning: \n",
            "\n",
            "Passing `palette` without assigning `hue` is deprecated and will be removed in v0.14.0. Assign the `x` variable to `hue` and set `legend=False` for the same effect.\n",
            "\n",
            "  sns.pointplot(x='rating', y='cost_of_the_order', data=df, palette='PuBu')   ## Complete the code to visualize the relationship between rating and cost of the order using pointplot\n"
          ]
        },
        {
          "output_type": "display_data",
          "data": {
            "text/plain": [
              "<Figure size 1500x700 with 1 Axes>"
            ],
            "image/png": "[encoded data removed]"
          },
          "metadata": {}
        }
      ],
      "source": [
        "# Relationship between rating and cost of the order\n",
        "plt.figure(figsize=(15, 7))\n",
        "sns.pointplot(x='rating', y='cost_of_the_order', data=df, palette='PuBu')   ## Complete the code to visualize the relationship between rating and cost of the order using pointplot\n",
        "plt.show()"
      ]
    },
    {
      "cell_type": "markdown",
      "source": [
        "***Observations***\n",
        "\n",
        "1.   Lower ratings are correlated with lower prices of the order\n",
        "2.   Variation of food prices are higher the lower the rating\n",
        "3.   The higher prices meals may come with more scrutiny given lower ratings\n",
        "\n"
      ],
      "metadata": {
        "id": "1FlZknG-Kt4x"
      }
    },
    {
      "cell_type": "markdown",
      "metadata": {
        "id": "N1ATzdSX2rdS"
      },
      "source": [
        "#### Correlation among variables"
      ]
    },
    {
      "cell_type": "code",
      "execution_count": null,
      "metadata": {
        "id": "I4yA0y032rdS",
        "scrolled": true,
        "colab": {
          "base_uri": "https://localhost:8080/",
          "height": 593
        },
        "outputId": "95e566bd-36aa-4753-b305-9743a515dc35"
      },
      "outputs": [
        {
          "output_type": "stream",
          "name": "stderr",
          "text": [
            "<ipython-input-12-cdf8b4e06760>:4: FutureWarning: The default value of numeric_only in DataFrame.corr is deprecated. In a future version, it will default to False. Select only valid columns or specify the value of numeric_only to silence this warning.\n",
            "  sns.heatmap(df[col_list].corr(), annot=True, vmin=-1, vmax=1, fmt=\".2f\", cmap=\"Spectral\")\n"
          ]
        },
        {
          "output_type": "display_data",
          "data": {
            "text/plain": [
              "<Figure size 1500x700 with 2 Axes>"
            ],
            "image/png": "[encoded data removed]"
          },
          "metadata": {}
        }
      ],
      "source": [
        "# Plot the heatmap\n",
        "col_list = ['cost_of_the_order', 'food_preparation_time', 'delivery_time', 'rating']\n",
        "plt.figure(figsize=(15, 7))\n",
        "sns.heatmap(df[col_list].corr(), annot=True, vmin=-1, vmax=1, fmt=\".2f\", cmap=\"Spectral\")\n",
        "plt.show()"
      ]
    },
    {
      "cell_type": "markdown",
      "source": [
        "***Observations***\n",
        "\n",
        "**Cost of the Order and Food Preparation Time (0.04):** There is a very weak positive correlation between the cost of the order and food preparation time. This suggests that there's almost no relationship, and the cost doesn't significantly increase with longer food preparation times.\n",
        "\n",
        "**Cost of the Order and Delivery Time (-0.03):** There is a negligible negative correlation between the cost of the order and delivery time, indicating that there's no significant relationship where higher costs lead to longer or shorter delivery times.\n",
        "\n",
        "**Food Preparation Time and Delivery Time (0.01):** There's an essentially nonexistent correlation between food preparation time and delivery time. This indicates that the time taken to prepare the food doesn't have a discernible impact on how long it takes to deliver the order.\n",
        "\n",
        "From this heatmap, we can infer that within the context of this dataset, the variables are mostly independent of each other. This independence suggests that other factors not captured within these three variables might influence them. For example, delivery time might be more affected by the distance to the delivery location or traffic conditions, while food preparation time might be influenced by the complexity of the dish or the efficiency of the restaurant's kitchen staff.\n",
        "\n",
        "For **business insights**, it indicates that focusing on optimizing any one of these variables may not necessarily have a direct impact on the others. Improvement strategies should be targeted specifically for each area (cost, preparation efficiency, or delivery performance) rather than expecting changes in one to naturally benefit the others."
      ],
      "metadata": {
        "id": "QmsxzKXwMWej"
      }
    },
    {
      "cell_type": "markdown",
      "metadata": {
        "id": "zwBb5dAq2rdS"
      },
      "source": [
        "### **Question 13:** The company wants to provide a promotional offer in the advertisement of the restaurants. The condition to get the offer is that the restaurants must have a rating count of more than 50 and the average rating should be greater than 4. Find the restaurants fulfilling the criteria to get the promotional offer. [3 marks]"
      ]
    },
    {
      "cell_type": "code",
      "execution_count": null,
      "metadata": {
        "id": "4jQUoQ812rdS",
        "scrolled": true,
        "colab": {
          "base_uri": "https://localhost:8080/",
          "height": 206
        },
        "outputId": "d3bd151d-f53f-4c6e-ce3d-9586c3daaa74"
      },
      "outputs": [
        {
          "output_type": "execute_result",
          "data": {
            "text/plain": [
              "             restaurant_name  rating\n",
              "0                Shake Shack     133\n",
              "1          The Meatball Shop      84\n",
              "2          Blue Ribbon Sushi      73\n",
              "3  Blue Ribbon Fried Chicken      64\n",
              "4           RedFarm Broadway      41"
            ],
            "text/html": [
              "\n",
              "  <div id=\"df-2d21d4fa-a7f2-4c35-9f73-92e5daf129c5\" class=\"colab-df-container\">\n",
              "    <div>\n",
              "<style scoped>\n",
              "    .dataframe tbody tr th:only-of-type {\n",
              "        vertical-align: middle;\n",
              "    }\n",
              "\n",
              "    .dataframe tbody tr th {\n",
              "        vertical-align: top;\n",
              "    }\n",
              "\n",
              "    .dataframe thead th {\n",
              "        text-align: right;\n",
              "    }\n",
              "</style>\n",
              "<table border=\"1\" class=\"dataframe\">\n",
              "  <thead>\n",
              "    <tr style=\"text-align: right;\">\n",
              "      <th></th>\n",
              "      <th>restaurant_name</th>\n",
              "      <th>rating</th>\n",
              "    </tr>\n",
              "  </thead>\n",
              "  <tbody>\n",
              "    <tr>\n",
              "      <th>0</th>\n",
              "      <td>Shake Shack</td>\n",
              "      <td>133</td>\n",
              "    </tr>\n",
              "    <tr>\n",
              "      <th>1</th>\n",
              "      <td>The Meatball Shop</td>\n",
              "      <td>84</td>\n",
              "    </tr>\n",
              "    <tr>\n",
              "      <th>2</th>\n",
              "      <td>Blue Ribbon Sushi</td>\n",
              "      <td>73</td>\n",
              "    </tr>\n",
              "    <tr>\n",
              "      <th>3</th>\n",
              "      <td>Blue Ribbon Fried Chicken</td>\n",
              "      <td>64</td>\n",
              "    </tr>\n",
              "    <tr>\n",
              "      <th>4</th>\n",
              "      <td>RedFarm Broadway</td>\n",
              "      <td>41</td>\n",
              "    </tr>\n",
              "  </tbody>\n",
              "</table>\n",
              "</div>\n",
              "    <div class=\"colab-df-buttons\">\n",
              "\n",
              "  <div class=\"colab-df-container\">\n",
              "    <button class=\"colab-df-convert\" onclick=\"convertToInteractive('df-2d21d4fa-a7f2-4c35-9f73-92e5daf129c5')\"\n",
              "            title=\"Convert this dataframe to an interactive table.\"\n",
              "            style=\"display:none;\">\n",
              "\n",
              "  <svg xmlns=\"http://www.w3.org/2000/svg\" height=\"24px\" viewBox=\"0 -960 960 960\">\n",
              "    <path d=\"M120-120v-720h720v720H120Zm60-500h600v-160H180v160Zm220 220h160v-160H400v160Zm0 220h160v-160H400v160ZM180-400h160v-160H180v160Zm440 0h160v-160H620v160ZM180-180h160v-160H180v160Zm440 0h160v-160H620v160Z\"/>\n",
              "  </svg>\n",
              "    </button>\n",
              "\n",
              "  <style>\n",
              "    .colab-df-container {\n",
              "      display:flex;\n",
              "      gap: 12px;\n",
              "    }\n",
              "\n",
              "    .colab-df-convert {\n",
              "      background-color: #E8F0FE;\n",
              "      border: none;\n",
              "      border-radius: 50%;\n",
              "      cursor: pointer;\n",
              "      display: none;\n",
              "      fill: #1967D2;\n",
              "      height: 32px;\n",
              "      padding: 0 0 0 0;\n",
              "      width: 32px;\n",
              "    }\n",
              "\n",
              "    .colab-df-convert:hover {\n",
              "      background-color: #E2EBFA;\n",
              "      box-shadow: 0px 1px 2px rgba(60, 64, 67, 0.3), 0px 1px 3px 1px rgba(60, 64, 67, 0.15);\n",
              "      fill: #174EA6;\n",
              "    }\n",
              "\n",
              "    .colab-df-buttons div {\n",
              "      margin-bottom: 4px;\n",
              "    }\n",
              "\n",
              "    [theme=dark] .colab-df-convert {\n",
              "      background-color: #3B4455;\n",
              "      fill: #D2E3FC;\n",
              "    }\n",
              "\n",
              "    [theme=dark] .colab-df-convert:hover {\n",
              "      background-color: #434B5C;\n",
              "      box-shadow: 0px 1px 3px 1px rgba(0, 0, 0, 0.15);\n",
              "      filter: drop-shadow(0px 1px 2px rgba(0, 0, 0, 0.3));\n",
              "      fill: #FFFFFF;\n",
              "    }\n",
              "  </style>\n",
              "\n",
              "    <script>\n",
              "      const buttonEl =\n",
              "        document.querySelector('#df-2d21d4fa-a7f2-4c35-9f73-92e5daf129c5 button.colab-df-convert');\n",
              "      buttonEl.style.display =\n",
              "        google.colab.kernel.accessAllowed ? 'block' : 'none';\n",
              "\n",
              "      async function convertToInteractive(key) {\n",
              "        const element = document.querySelector('#df-2d21d4fa-a7f2-4c35-9f73-92e5daf129c5');\n",
              "        const dataTable =\n",
              "          await google.colab.kernel.invokeFunction('convertToInteractive',\n",
              "                                                    [key], {});\n",
              "        if (!dataTable) return;\n",
              "\n",
              "        const docLinkHtml = 'Like what you see? Visit the ' +\n",
              "          '<a target=\"_blank\" href=https://colab.research.google.com/notebooks/data_table.ipynb>data table notebook</a>'\n",
              "          + ' to learn more about interactive tables.';\n",
              "        element.innerHTML = '';\n",
              "        dataTable['output_type'] = 'display_data';\n",
              "        await google.colab.output.renderOutput(dataTable, element);\n",
              "        const docLink = document.createElement('div');\n",
              "        docLink.innerHTML = docLinkHtml;\n",
              "        element.appendChild(docLink);\n",
              "      }\n",
              "    </script>\n",
              "  </div>\n",
              "\n",
              "\n",
              "<div id=\"df-f4203159-9745-46bb-909c-6556fdea0c63\">\n",
              "  <button class=\"colab-df-quickchart\" onclick=\"quickchart('df-f4203159-9745-46bb-909c-6556fdea0c63')\"\n",
              "            title=\"Suggest charts\"\n",
              "            style=\"display:none;\">\n",
              "\n",
              "<svg xmlns=\"http://www.w3.org/2000/svg\" height=\"24px\"viewBox=\"0 0 24 24\"\n",
              "     width=\"24px\">\n",
              "    <g>\n",
              "        <path d=\"M19 3H5c-1.1 0-2 .9-2 2v14c0 1.1.9 2 2 2h14c1.1 0 2-.9 2-2V5c0-1.1-.9-2-2-2zM9 17H7v-7h2v7zm4 0h-2V7h2v10zm4 0h-2v-4h2v4z\"/>\n",
              "    </g>\n",
              "</svg>\n",
              "  </button>\n",
              "\n",
              "<style>\n",
              "  .colab-df-quickchart {\n",
              "      --bg-color: #E8F0FE;\n",
              "      --fill-color: #1967D2;\n",
              "      --hover-bg-color: #E2EBFA;\n",
              "      --hover-fill-color: #174EA6;\n",
              "      --disabled-fill-color: #AAA;\n",
              "      --disabled-bg-color: #DDD;\n",
              "  }\n",
              "\n",
              "  [theme=dark] .colab-df-quickchart {\n",
              "      --bg-color: #3B4455;\n",
              "      --fill-color: #D2E3FC;\n",
              "      --hover-bg-color: #434B5C;\n",
              "      --hover-fill-color: #FFFFFF;\n",
              "      --disabled-bg-color: #3B4455;\n",
              "      --disabled-fill-color: #666;\n",
              "  }\n",
              "\n",
              "  .colab-df-quickchart {\n",
              "    background-color: var(--bg-color);\n",
              "    border: none;\n",
              "    border-radius: 50%;\n",
              "    cursor: pointer;\n",
              "    display: none;\n",
              "    fill: var(--fill-color);\n",
              "    height: 32px;\n",
              "    padding: 0;\n",
              "    width: 32px;\n",
              "  }\n",
              "\n",
              "  .colab-df-quickchart:hover {\n",
              "    background-color: var(--hover-bg-color);\n",
              "    box-shadow: 0 1px 2px rgba(60, 64, 67, 0.3), 0 1px 3px 1px rgba(60, 64, 67, 0.15);\n",
              "    fill: var(--button-hover-fill-color);\n",
              "  }\n",
              "\n",
              "  .colab-df-quickchart-complete:disabled,\n",
              "  .colab-df-quickchart-complete:disabled:hover {\n",
              "    background-color: var(--disabled-bg-color);\n",
              "    fill: var(--disabled-fill-color);\n",
              "    box-shadow: none;\n",
              "  }\n",
              "\n",
              "  .colab-df-spinner {\n",
              "    border: 2px solid var(--fill-color);\n",
              "    border-color: transparent;\n",
              "    border-bottom-color: var(--fill-color);\n",
              "    animation:\n",
              "      spin 1s steps(1) infinite;\n",
              "  }\n",
              "\n",
              "  @keyframes spin {\n",
              "    0% {\n",
              "      border-color: transparent;\n",
              "      border-bottom-color: var(--fill-color);\n",
              "      border-left-color: var(--fill-color);\n",
              "    }\n",
              "    20% {\n",
              "      border-color: transparent;\n",
              "      border-left-color: var(--fill-color);\n",
              "      border-top-color: var(--fill-color);\n",
              "    }\n",
              "    30% {\n",
              "      border-color: transparent;\n",
              "      border-left-color: var(--fill-color);\n",
              "      border-top-color: var(--fill-color);\n",
              "      border-right-color: var(--fill-color);\n",
              "    }\n",
              "    40% {\n",
              "      border-color: transparent;\n",
              "      border-right-color: var(--fill-color);\n",
              "      border-top-color: var(--fill-color);\n",
              "    }\n",
              "    60% {\n",
              "      border-color: transparent;\n",
              "      border-right-color: var(--fill-color);\n",
              "    }\n",
              "    80% {\n",
              "      border-color: transparent;\n",
              "      border-right-color: var(--fill-color);\n",
              "      border-bottom-color: var(--fill-color);\n",
              "    }\n",
              "    90% {\n",
              "      border-color: transparent;\n",
              "      border-bottom-color: var(--fill-color);\n",
              "    }\n",
              "  }\n",
              "</style>\n",
              "\n",
              "  <script>\n",
              "    async function quickchart(key) {\n",
              "      const quickchartButtonEl =\n",
              "        document.querySelector('#' + key + ' button');\n",
              "      quickchartButtonEl.disabled = true;  // To prevent multiple clicks.\n",
              "      quickchartButtonEl.classList.add('colab-df-spinner');\n",
              "      try {\n",
              "        const charts = await google.colab.kernel.invokeFunction(\n",
              "            'suggestCharts', [key], {});\n",
              "      } catch (error) {\n",
              "        console.error('Error during call to suggestCharts:', error);\n",
              "      }\n",
              "      quickchartButtonEl.classList.remove('colab-df-spinner');\n",
              "      quickchartButtonEl.classList.add('colab-df-quickchart-complete');\n",
              "    }\n",
              "    (() => {\n",
              "      let quickchartButtonEl =\n",
              "        document.querySelector('#df-f4203159-9745-46bb-909c-6556fdea0c63 button');\n",
              "      quickchartButtonEl.style.display =\n",
              "        google.colab.kernel.accessAllowed ? 'block' : 'none';\n",
              "    })();\n",
              "  </script>\n",
              "</div>\n",
              "\n",
              "    </div>\n",
              "  </div>\n"
            ],
            "application/vnd.google.colaboratory.intrinsic+json": {
              "type": "dataframe",
              "variable_name": "df_rating_count",
              "summary": "{\n  \"name\": \"df_rating_count\",\n  \"rows\": 156,\n  \"fields\": [\n    {\n      \"column\": \"restaurant_name\",\n      \"properties\": {\n        \"dtype\": \"string\",\n        \"num_unique_values\": 156,\n        \"samples\": [\n          \"Benihana\",\n          \"Dickson's Farmstand Meats\",\n          \"Le Grainne Cafe\"\n        ],\n        \"semantic_type\": \"\",\n        \"description\": \"\"\n      }\n    },\n    {\n      \"column\": \"rating\",\n      \"properties\": {\n        \"dtype\": \"number\",\n        \"std\": 15,\n        \"min\": 1,\n        \"max\": 133,\n        \"num_unique_values\": 29,\n        \"samples\": [\n          2,\n          13,\n          19\n        ],\n        \"semantic_type\": \"\",\n        \"description\": \"\"\n      }\n    }\n  ]\n}"
            }
          },
          "metadata": {},
          "execution_count": 13
        }
      ],
      "source": [
        "# Filter the rated restaurants\n",
        "df_rated = df[df['rating'] != 'Not given'].copy()\n",
        "\n",
        "# Convert rating column from object to integer\n",
        "df_rated['rating'] = df_rated['rating'].astype('int')\n",
        "\n",
        "# Create a dataframe that contains the restaurant names with their rating counts\n",
        "df_rating_count = df_rated.groupby(['restaurant_name'])['rating'].count().sort_values(ascending = False).reset_index()\n",
        "df_rating_count.head()"
      ]
    },
    {
      "cell_type": "code",
      "execution_count": null,
      "metadata": {
        "id": "VLdgfwoL2rdT",
        "colab": {
          "base_uri": "https://localhost:8080/",
          "height": 175
        },
        "outputId": "6d9dac00-dc63-482b-f32a-6205bdeaa910"
      },
      "outputs": [
        {
          "output_type": "execute_result",
          "data": {
            "text/plain": [
              "             restaurant_name    rating\n",
              "0          The Meatball Shop  4.511905\n",
              "1  Blue Ribbon Fried Chicken  4.328125\n",
              "2                Shake Shack  4.278195\n",
              "3          Blue Ribbon Sushi  4.219178"
            ],
            "text/html": [
              "\n",
              "  <div id=\"df-1d84da8c-3ad6-4275-80d4-5632c3ebfde1\" class=\"colab-df-container\">\n",
              "    <div>\n",
              "<style scoped>\n",
              "    .dataframe tbody tr th:only-of-type {\n",
              "        vertical-align: middle;\n",
              "    }\n",
              "\n",
              "    .dataframe tbody tr th {\n",
              "        vertical-align: top;\n",
              "    }\n",
              "\n",
              "    .dataframe thead th {\n",
              "        text-align: right;\n",
              "    }\n",
              "</style>\n",
              "<table border=\"1\" class=\"dataframe\">\n",
              "  <thead>\n",
              "    <tr style=\"text-align: right;\">\n",
              "      <th></th>\n",
              "      <th>restaurant_name</th>\n",
              "      <th>rating</th>\n",
              "    </tr>\n",
              "  </thead>\n",
              "  <tbody>\n",
              "    <tr>\n",
              "      <th>0</th>\n",
              "      <td>The Meatball Shop</td>\n",
              "      <td>4.511905</td>\n",
              "    </tr>\n",
              "    <tr>\n",
              "      <th>1</th>\n",
              "      <td>Blue Ribbon Fried Chicken</td>\n",
              "      <td>4.328125</td>\n",
              "    </tr>\n",
              "    <tr>\n",
              "      <th>2</th>\n",
              "      <td>Shake Shack</td>\n",
              "      <td>4.278195</td>\n",
              "    </tr>\n",
              "    <tr>\n",
              "      <th>3</th>\n",
              "      <td>Blue Ribbon Sushi</td>\n",
              "      <td>4.219178</td>\n",
              "    </tr>\n",
              "  </tbody>\n",
              "</table>\n",
              "</div>\n",
              "    <div class=\"colab-df-buttons\">\n",
              "\n",
              "  <div class=\"colab-df-container\">\n",
              "    <button class=\"colab-df-convert\" onclick=\"convertToInteractive('df-1d84da8c-3ad6-4275-80d4-5632c3ebfde1')\"\n",
              "            title=\"Convert this dataframe to an interactive table.\"\n",
              "            style=\"display:none;\">\n",
              "\n",
              "  <svg xmlns=\"http://www.w3.org/2000/svg\" height=\"24px\" viewBox=\"0 -960 960 960\">\n",
              "    <path d=\"M120-120v-720h720v720H120Zm60-500h600v-160H180v160Zm220 220h160v-160H400v160Zm0 220h160v-160H400v160ZM180-400h160v-160H180v160Zm440 0h160v-160H620v160ZM180-180h160v-160H180v160Zm440 0h160v-160H620v160Z\"/>\n",
              "  </svg>\n",
              "    </button>\n",
              "\n",
              "  <style>\n",
              "    .colab-df-container {\n",
              "      display:flex;\n",
              "      gap: 12px;\n",
              "    }\n",
              "\n",
              "    .colab-df-convert {\n",
              "      background-color: #E8F0FE;\n",
              "      border: none;\n",
              "      border-radius: 50%;\n",
              "      cursor: pointer;\n",
              "      display: none;\n",
              "      fill: #1967D2;\n",
              "      height: 32px;\n",
              "      padding: 0 0 0 0;\n",
              "      width: 32px;\n",
              "    }\n",
              "\n",
              "    .colab-df-convert:hover {\n",
              "      background-color: #E2EBFA;\n",
              "      box-shadow: 0px 1px 2px rgba(60, 64, 67, 0.3), 0px 1px 3px 1px rgba(60, 64, 67, 0.15);\n",
              "      fill: #174EA6;\n",
              "    }\n",
              "\n",
              "    .colab-df-buttons div {\n",
              "      margin-bottom: 4px;\n",
              "    }\n",
              "\n",
              "    [theme=dark] .colab-df-convert {\n",
              "      background-color: #3B4455;\n",
              "      fill: #D2E3FC;\n",
              "    }\n",
              "\n",
              "    [theme=dark] .colab-df-convert:hover {\n",
              "      background-color: #434B5C;\n",
              "      box-shadow: 0px 1px 3px 1px rgba(0, 0, 0, 0.15);\n",
              "      filter: drop-shadow(0px 1px 2px rgba(0, 0, 0, 0.3));\n",
              "      fill: #FFFFFF;\n",
              "    }\n",
              "  </style>\n",
              "\n",
              "    <script>\n",
              "      const buttonEl =\n",
              "        document.querySelector('#df-1d84da8c-3ad6-4275-80d4-5632c3ebfde1 button.colab-df-convert');\n",
              "      buttonEl.style.display =\n",
              "        google.colab.kernel.accessAllowed ? 'block' : 'none';\n",
              "\n",
              "      async function convertToInteractive(key) {\n",
              "        const element = document.querySelector('#df-1d84da8c-3ad6-4275-80d4-5632c3ebfde1');\n",
              "        const dataTable =\n",
              "          await google.colab.kernel.invokeFunction('convertToInteractive',\n",
              "                                                    [key], {});\n",
              "        if (!dataTable) return;\n",
              "\n",
              "        const docLinkHtml = 'Like what you see? Visit the ' +\n",
              "          '<a target=\"_blank\" href=https://colab.research.google.com/notebooks/data_table.ipynb>data table notebook</a>'\n",
              "          + ' to learn more about interactive tables.';\n",
              "        element.innerHTML = '';\n",
              "        dataTable['output_type'] = 'display_data';\n",
              "        await google.colab.output.renderOutput(dataTable, element);\n",
              "        const docLink = document.createElement('div');\n",
              "        docLink.innerHTML = docLinkHtml;\n",
              "        element.appendChild(docLink);\n",
              "      }\n",
              "    </script>\n",
              "  </div>\n",
              "\n",
              "\n",
              "<div id=\"df-0b4b497e-8bc9-44b0-9c86-46dcdec51a8d\">\n",
              "  <button class=\"colab-df-quickchart\" onclick=\"quickchart('df-0b4b497e-8bc9-44b0-9c86-46dcdec51a8d')\"\n",
              "            title=\"Suggest charts\"\n",
              "            style=\"display:none;\">\n",
              "\n",
              "<svg xmlns=\"http://www.w3.org/2000/svg\" height=\"24px\"viewBox=\"0 0 24 24\"\n",
              "     width=\"24px\">\n",
              "    <g>\n",
              "        <path d=\"M19 3H5c-1.1 0-2 .9-2 2v14c0 1.1.9 2 2 2h14c1.1 0 2-.9 2-2V5c0-1.1-.9-2-2-2zM9 17H7v-7h2v7zm4 0h-2V7h2v10zm4 0h-2v-4h2v4z\"/>\n",
              "    </g>\n",
              "</svg>\n",
              "  </button>\n",
              "\n",
              "<style>\n",
              "  .colab-df-quickchart {\n",
              "      --bg-color: #E8F0FE;\n",
              "      --fill-color: #1967D2;\n",
              "      --hover-bg-color: #E2EBFA;\n",
              "      --hover-fill-color: #174EA6;\n",
              "      --disabled-fill-color: #AAA;\n",
              "      --disabled-bg-color: #DDD;\n",
              "  }\n",
              "\n",
              "  [theme=dark] .colab-df-quickchart {\n",
              "      --bg-color: #3B4455;\n",
              "      --fill-color: #D2E3FC;\n",
              "      --hover-bg-color: #434B5C;\n",
              "      --hover-fill-color: #FFFFFF;\n",
              "      --disabled-bg-color: #3B4455;\n",
              "      --disabled-fill-color: #666;\n",
              "  }\n",
              "\n",
              "  .colab-df-quickchart {\n",
              "    background-color: var(--bg-color);\n",
              "    border: none;\n",
              "    border-radius: 50%;\n",
              "    cursor: pointer;\n",
              "    display: none;\n",
              "    fill: var(--fill-color);\n",
              "    height: 32px;\n",
              "    padding: 0;\n",
              "    width: 32px;\n",
              "  }\n",
              "\n",
              "  .colab-df-quickchart:hover {\n",
              "    background-color: var(--hover-bg-color);\n",
              "    box-shadow: 0 1px 2px rgba(60, 64, 67, 0.3), 0 1px 3px 1px rgba(60, 64, 67, 0.15);\n",
              "    fill: var(--button-hover-fill-color);\n",
              "  }\n",
              "\n",
              "  .colab-df-quickchart-complete:disabled,\n",
              "  .colab-df-quickchart-complete:disabled:hover {\n",
              "    background-color: var(--disabled-bg-color);\n",
              "    fill: var(--disabled-fill-color);\n",
              "    box-shadow: none;\n",
              "  }\n",
              "\n",
              "  .colab-df-spinner {\n",
              "    border: 2px solid var(--fill-color);\n",
              "    border-color: transparent;\n",
              "    border-bottom-color: var(--fill-color);\n",
              "    animation:\n",
              "      spin 1s steps(1) infinite;\n",
              "  }\n",
              "\n",
              "  @keyframes spin {\n",
              "    0% {\n",
              "      border-color: transparent;\n",
              "      border-bottom-color: var(--fill-color);\n",
              "      border-left-color: var(--fill-color);\n",
              "    }\n",
              "    20% {\n",
              "      border-color: transparent;\n",
              "      border-left-color: var(--fill-color);\n",
              "      border-top-color: var(--fill-color);\n",
              "    }\n",
              "    30% {\n",
              "      border-color: transparent;\n",
              "      border-left-color: var(--fill-color);\n",
              "      border-top-color: var(--fill-color);\n",
              "      border-right-color: var(--fill-color);\n",
              "    }\n",
              "    40% {\n",
              "      border-color: transparent;\n",
              "      border-right-color: var(--fill-color);\n",
              "      border-top-color: var(--fill-color);\n",
              "    }\n",
              "    60% {\n",
              "      border-color: transparent;\n",
              "      border-right-color: var(--fill-color);\n",
              "    }\n",
              "    80% {\n",
              "      border-color: transparent;\n",
              "      border-right-color: var(--fill-color);\n",
              "      border-bottom-color: var(--fill-color);\n",
              "    }\n",
              "    90% {\n",
              "      border-color: transparent;\n",
              "      border-bottom-color: var(--fill-color);\n",
              "    }\n",
              "  }\n",
              "</style>\n",
              "\n",
              "  <script>\n",
              "    async function quickchart(key) {\n",
              "      const quickchartButtonEl =\n",
              "        document.querySelector('#' + key + ' button');\n",
              "      quickchartButtonEl.disabled = true;  // To prevent multiple clicks.\n",
              "      quickchartButtonEl.classList.add('colab-df-spinner');\n",
              "      try {\n",
              "        const charts = await google.colab.kernel.invokeFunction(\n",
              "            'suggestCharts', [key], {});\n",
              "      } catch (error) {\n",
              "        console.error('Error during call to suggestCharts:', error);\n",
              "      }\n",
              "      quickchartButtonEl.classList.remove('colab-df-spinner');\n",
              "      quickchartButtonEl.classList.add('colab-df-quickchart-complete');\n",
              "    }\n",
              "    (() => {\n",
              "      let quickchartButtonEl =\n",
              "        document.querySelector('#df-0b4b497e-8bc9-44b0-9c86-46dcdec51a8d button');\n",
              "      quickchartButtonEl.style.display =\n",
              "        google.colab.kernel.accessAllowed ? 'block' : 'none';\n",
              "    })();\n",
              "  </script>\n",
              "</div>\n",
              "\n",
              "    </div>\n",
              "  </div>\n"
            ],
            "application/vnd.google.colaboratory.intrinsic+json": {
              "type": "dataframe",
              "summary": "{\n  \"name\": \"df_mean_4\",\n  \"rows\": 4,\n  \"fields\": [\n    {\n      \"column\": \"restaurant_name\",\n      \"properties\": {\n        \"dtype\": \"string\",\n        \"num_unique_values\": 4,\n        \"samples\": [\n          \"Blue Ribbon Fried Chicken\",\n          \"Blue Ribbon Sushi\",\n          \"The Meatball Shop\"\n        ],\n        \"semantic_type\": \"\",\n        \"description\": \"\"\n      }\n    },\n    {\n      \"column\": \"rating\",\n      \"properties\": {\n        \"dtype\": \"number\",\n        \"std\": 0.1264678402938812,\n        \"min\": 4.219178082191781,\n        \"max\": 4.511904761904762,\n        \"num_unique_values\": 4,\n        \"samples\": [\n          4.328125,\n          4.219178082191781,\n          4.511904761904762\n        ],\n        \"semantic_type\": \"\",\n        \"description\": \"\"\n      }\n    }\n  ]\n}"
            }
          },
          "metadata": {},
          "execution_count": 15
        }
      ],
      "source": [
        "# Get the restaurant names that have rating count more than 50\n",
        "rest_names = df_rating_count[df_rating_count['rating'] > 50]['restaurant_name'] ## Complete the code to get the restaurant names having rating count more than 50\n",
        "\n",
        "# Filter to get the data of restaurants that have rating count more than 50\n",
        "df_mean_4 = df_rated[df_rated['restaurant_name'].isin(rest_names)].copy()\n",
        "\n",
        "# Group the restaurant names with their ratings and find the mean rating of each restaurant\n",
        "df_mean_4.groupby(['restaurant_name'])['rating'].mean().sort_values(ascending = False).reset_index().dropna() ## Complete the code to find the mean rating\n"
      ]
    },
    {
      "cell_type": "markdown",
      "metadata": {
        "id": "UYq_xMk72rdT"
      },
      "source": [
        "### **Question 14:** The company charges the restaurant 25% on the orders having cost greater than 20 dollars and 15% on the orders having cost greater than 5 dollars. Find the net revenue generated by the company across all orders. [3 marks]"
      ]
    },
    {
      "cell_type": "code",
      "execution_count": null,
      "metadata": {
        "id": "We7SLKbr2rdT",
        "colab": {
          "base_uri": "https://localhost:8080/",
          "height": 278
        },
        "outputId": "7ce52f9b-925d-4bc9-ada9-8af5c2313f6c"
      },
      "outputs": [
        {
          "output_type": "execute_result",
          "data": {
            "text/plain": [
              "   order_id  customer_id            restaurant_name cuisine_type  \\\n",
              "0   1477147       337525                    Hangawi       Korean   \n",
              "1   1477685       358141  Blue Ribbon Sushi Izakaya     Japanese   \n",
              "2   1477070        66393                Cafe Habana      Mexican   \n",
              "3   1477334       106968  Blue Ribbon Fried Chicken     American   \n",
              "4   1478249        76942           Dirty Bird to Go     American   \n",
              "\n",
              "   cost_of_the_order day_of_the_week     rating  food_preparation_time  \\\n",
              "0              30.75         Weekend  Not given                     25   \n",
              "1              12.08         Weekend  Not given                     25   \n",
              "2              12.23         Weekday          5                     23   \n",
              "3              29.20         Weekend          3                     25   \n",
              "4              11.59         Weekday          4                     25   \n",
              "\n",
              "   delivery_time  Revenue  \n",
              "0             20   7.6875  \n",
              "1             23   1.8120  \n",
              "2             28   1.8345  \n",
              "3             15   7.3000  \n",
              "4             24   1.7385  "
            ],
            "text/html": [
              "\n",
              "  <div id=\"df-d78b1084-bce4-4927-871a-dbf5a551d094\" class=\"colab-df-container\">\n",
              "    <div>\n",
              "<style scoped>\n",
              "    .dataframe tbody tr th:only-of-type {\n",
              "        vertical-align: middle;\n",
              "    }\n",
              "\n",
              "    .dataframe tbody tr th {\n",
              "        vertical-align: top;\n",
              "    }\n",
              "\n",
              "    .dataframe thead th {\n",
              "        text-align: right;\n",
              "    }\n",
              "</style>\n",
              "<table border=\"1\" class=\"dataframe\">\n",
              "  <thead>\n",
              "    <tr style=\"text-align: right;\">\n",
              "      <th></th>\n",
              "      <th>order_id</th>\n",
              "      <th>customer_id</th>\n",
              "      <th>restaurant_name</th>\n",
              "      <th>cuisine_type</th>\n",
              "      <th>cost_of_the_order</th>\n",
              "      <th>day_of_the_week</th>\n",
              "      <th>rating</th>\n",
              "      <th>food_preparation_time</th>\n",
              "      <th>delivery_time</th>\n",
              "      <th>Revenue</th>\n",
              "    </tr>\n",
              "  </thead>\n",
              "  <tbody>\n",
              "    <tr>\n",
              "      <th>0</th>\n",
              "      <td>1477147</td>\n",
              "      <td>337525</td>\n",
              "      <td>Hangawi</td>\n",
              "      <td>Korean</td>\n",
              "      <td>30.75</td>\n",
              "      <td>Weekend</td>\n",
              "      <td>Not given</td>\n",
              "      <td>25</td>\n",
              "      <td>20</td>\n",
              "      <td>7.6875</td>\n",
              "    </tr>\n",
              "    <tr>\n",
              "      <th>1</th>\n",
              "      <td>1477685</td>\n",
              "      <td>358141</td>\n",
              "      <td>Blue Ribbon Sushi Izakaya</td>\n",
              "      <td>Japanese</td>\n",
              "      <td>12.08</td>\n",
              "      <td>Weekend</td>\n",
              "      <td>Not given</td>\n",
              "      <td>25</td>\n",
              "      <td>23</td>\n",
              "      <td>1.8120</td>\n",
              "    </tr>\n",
              "    <tr>\n",
              "      <th>2</th>\n",
              "      <td>1477070</td>\n",
              "      <td>66393</td>\n",
              "      <td>Cafe Habana</td>\n",
              "      <td>Mexican</td>\n",
              "      <td>12.23</td>\n",
              "      <td>Weekday</td>\n",
              "      <td>5</td>\n",
              "      <td>23</td>\n",
              "      <td>28</td>\n",
              "      <td>1.8345</td>\n",
              "    </tr>\n",
              "    <tr>\n",
              "      <th>3</th>\n",
              "      <td>1477334</td>\n",
              "      <td>106968</td>\n",
              "      <td>Blue Ribbon Fried Chicken</td>\n",
              "      <td>American</td>\n",
              "      <td>29.20</td>\n",
              "      <td>Weekend</td>\n",
              "      <td>3</td>\n",
              "      <td>25</td>\n",
              "      <td>15</td>\n",
              "      <td>7.3000</td>\n",
              "    </tr>\n",
              "    <tr>\n",
              "      <th>4</th>\n",
              "      <td>1478249</td>\n",
              "      <td>76942</td>\n",
              "      <td>Dirty Bird to Go</td>\n",
              "      <td>American</td>\n",
              "      <td>11.59</td>\n",
              "      <td>Weekday</td>\n",
              "      <td>4</td>\n",
              "      <td>25</td>\n",
              "      <td>24</td>\n",
              "      <td>1.7385</td>\n",
              "    </tr>\n",
              "  </tbody>\n",
              "</table>\n",
              "</div>\n",
              "    <div class=\"colab-df-buttons\">\n",
              "\n",
              "  <div class=\"colab-df-container\">\n",
              "    <button class=\"colab-df-convert\" onclick=\"convertToInteractive('df-d78b1084-bce4-4927-871a-dbf5a551d094')\"\n",
              "            title=\"Convert this dataframe to an interactive table.\"\n",
              "            style=\"display:none;\">\n",
              "\n",
              "  <svg xmlns=\"http://www.w3.org/2000/svg\" height=\"24px\" viewBox=\"0 -960 960 960\">\n",
              "    <path d=\"M120-120v-720h720v720H120Zm60-500h600v-160H180v160Zm220 220h160v-160H400v160Zm0 220h160v-160H400v160ZM180-400h160v-160H180v160Zm440 0h160v-160H620v160ZM180-180h160v-160H180v160Zm440 0h160v-160H620v160Z\"/>\n",
              "  </svg>\n",
              "    </button>\n",
              "\n",
              "  <style>\n",
              "    .colab-df-container {\n",
              "      display:flex;\n",
              "      gap: 12px;\n",
              "    }\n",
              "\n",
              "    .colab-df-convert {\n",
              "      background-color: #E8F0FE;\n",
              "      border: none;\n",
              "      border-radius: 50%;\n",
              "      cursor: pointer;\n",
              "      display: none;\n",
              "      fill: #1967D2;\n",
              "      height: 32px;\n",
              "      padding: 0 0 0 0;\n",
              "      width: 32px;\n",
              "    }\n",
              "\n",
              "    .colab-df-convert:hover {\n",
              "      background-color: #E2EBFA;\n",
              "      box-shadow: 0px 1px 2px rgba(60, 64, 67, 0.3), 0px 1px 3px 1px rgba(60, 64, 67, 0.15);\n",
              "      fill: #174EA6;\n",
              "    }\n",
              "\n",
              "    .colab-df-buttons div {\n",
              "      margin-bottom: 4px;\n",
              "    }\n",
              "\n",
              "    [theme=dark] .colab-df-convert {\n",
              "      background-color: #3B4455;\n",
              "      fill: #D2E3FC;\n",
              "    }\n",
              "\n",
              "    [theme=dark] .colab-df-convert:hover {\n",
              "      background-color: #434B5C;\n",
              "      box-shadow: 0px 1px 3px 1px rgba(0, 0, 0, 0.15);\n",
              "      filter: drop-shadow(0px 1px 2px rgba(0, 0, 0, 0.3));\n",
              "      fill: #FFFFFF;\n",
              "    }\n",
              "  </style>\n",
              "\n",
              "    <script>\n",
              "      const buttonEl =\n",
              "        document.querySelector('#df-d78b1084-bce4-4927-871a-dbf5a551d094 button.colab-df-convert');\n",
              "      buttonEl.style.display =\n",
              "        google.colab.kernel.accessAllowed ? 'block' : 'none';\n",
              "\n",
              "      async function convertToInteractive(key) {\n",
              "        const element = document.querySelector('#df-d78b1084-bce4-4927-871a-dbf5a551d094');\n",
              "        const dataTable =\n",
              "          await google.colab.kernel.invokeFunction('convertToInteractive',\n",
              "                                                    [key], {});\n",
              "        if (!dataTable) return;\n",
              "\n",
              "        const docLinkHtml = 'Like what you see? Visit the ' +\n",
              "          '<a target=\"_blank\" href=https://colab.research.google.com/notebooks/data_table.ipynb>data table notebook</a>'\n",
              "          + ' to learn more about interactive tables.';\n",
              "        element.innerHTML = '';\n",
              "        dataTable['output_type'] = 'display_data';\n",
              "        await google.colab.output.renderOutput(dataTable, element);\n",
              "        const docLink = document.createElement('div');\n",
              "        docLink.innerHTML = docLinkHtml;\n",
              "        element.appendChild(docLink);\n",
              "      }\n",
              "    </script>\n",
              "  </div>\n",
              "\n",
              "\n",
              "<div id=\"df-7c68e4bb-82b9-444b-97e0-047cb953b462\">\n",
              "  <button class=\"colab-df-quickchart\" onclick=\"quickchart('df-7c68e4bb-82b9-444b-97e0-047cb953b462')\"\n",
              "            title=\"Suggest charts\"\n",
              "            style=\"display:none;\">\n",
              "\n",
              "<svg xmlns=\"http://www.w3.org/2000/svg\" height=\"24px\"viewBox=\"0 0 24 24\"\n",
              "     width=\"24px\">\n",
              "    <g>\n",
              "        <path d=\"M19 3H5c-1.1 0-2 .9-2 2v14c0 1.1.9 2 2 2h14c1.1 0 2-.9 2-2V5c0-1.1-.9-2-2-2zM9 17H7v-7h2v7zm4 0h-2V7h2v10zm4 0h-2v-4h2v4z\"/>\n",
              "    </g>\n",
              "</svg>\n",
              "  </button>\n",
              "\n",
              "<style>\n",
              "  .colab-df-quickchart {\n",
              "      --bg-color: #E8F0FE;\n",
              "      --fill-color: #1967D2;\n",
              "      --hover-bg-color: #E2EBFA;\n",
              "      --hover-fill-color: #174EA6;\n",
              "      --disabled-fill-color: #AAA;\n",
              "      --disabled-bg-color: #DDD;\n",
              "  }\n",
              "\n",
              "  [theme=dark] .colab-df-quickchart {\n",
              "      --bg-color: #3B4455;\n",
              "      --fill-color: #D2E3FC;\n",
              "      --hover-bg-color: #434B5C;\n",
              "      --hover-fill-color: #FFFFFF;\n",
              "      --disabled-bg-color: #3B4455;\n",
              "      --disabled-fill-color: #666;\n",
              "  }\n",
              "\n",
              "  .colab-df-quickchart {\n",
              "    background-color: var(--bg-color);\n",
              "    border: none;\n",
              "    border-radius: 50%;\n",
              "    cursor: pointer;\n",
              "    display: none;\n",
              "    fill: var(--fill-color);\n",
              "    height: 32px;\n",
              "    padding: 0;\n",
              "    width: 32px;\n",
              "  }\n",
              "\n",
              "  .colab-df-quickchart:hover {\n",
              "    background-color: var(--hover-bg-color);\n",
              "    box-shadow: 0 1px 2px rgba(60, 64, 67, 0.3), 0 1px 3px 1px rgba(60, 64, 67, 0.15);\n",
              "    fill: var(--button-hover-fill-color);\n",
              "  }\n",
              "\n",
              "  .colab-df-quickchart-complete:disabled,\n",
              "  .colab-df-quickchart-complete:disabled:hover {\n",
              "    background-color: var(--disabled-bg-color);\n",
              "    fill: var(--disabled-fill-color);\n",
              "    box-shadow: none;\n",
              "  }\n",
              "\n",
              "  .colab-df-spinner {\n",
              "    border: 2px solid var(--fill-color);\n",
              "    border-color: transparent;\n",
              "    border-bottom-color: var(--fill-color);\n",
              "    animation:\n",
              "      spin 1s steps(1) infinite;\n",
              "  }\n",
              "\n",
              "  @keyframes spin {\n",
              "    0% {\n",
              "      border-color: transparent;\n",
              "      border-bottom-color: var(--fill-color);\n",
              "      border-left-color: var(--fill-color);\n",
              "    }\n",
              "    20% {\n",
              "      border-color: transparent;\n",
              "      border-left-color: var(--fill-color);\n",
              "      border-top-color: var(--fill-color);\n",
              "    }\n",
              "    30% {\n",
              "      border-color: transparent;\n",
              "      border-left-color: var(--fill-color);\n",
              "      border-top-color: var(--fill-color);\n",
              "      border-right-color: var(--fill-color);\n",
              "    }\n",
              "    40% {\n",
              "      border-color: transparent;\n",
              "      border-right-color: var(--fill-color);\n",
              "      border-top-color: var(--fill-color);\n",
              "    }\n",
              "    60% {\n",
              "      border-color: transparent;\n",
              "      border-right-color: var(--fill-color);\n",
              "    }\n",
              "    80% {\n",
              "      border-color: transparent;\n",
              "      border-right-color: var(--fill-color);\n",
              "      border-bottom-color: var(--fill-color);\n",
              "    }\n",
              "    90% {\n",
              "      border-color: transparent;\n",
              "      border-bottom-color: var(--fill-color);\n",
              "    }\n",
              "  }\n",
              "</style>\n",
              "\n",
              "  <script>\n",
              "    async function quickchart(key) {\n",
              "      const quickchartButtonEl =\n",
              "        document.querySelector('#' + key + ' button');\n",
              "      quickchartButtonEl.disabled = true;  // To prevent multiple clicks.\n",
              "      quickchartButtonEl.classList.add('colab-df-spinner');\n",
              "      try {\n",
              "        const charts = await google.colab.kernel.invokeFunction(\n",
              "            'suggestCharts', [key], {});\n",
              "      } catch (error) {\n",
              "        console.error('Error during call to suggestCharts:', error);\n",
              "      }\n",
              "      quickchartButtonEl.classList.remove('colab-df-spinner');\n",
              "      quickchartButtonEl.classList.add('colab-df-quickchart-complete');\n",
              "    }\n",
              "    (() => {\n",
              "      let quickchartButtonEl =\n",
              "        document.querySelector('#df-7c68e4bb-82b9-444b-97e0-047cb953b462 button');\n",
              "      quickchartButtonEl.style.display =\n",
              "        google.colab.kernel.accessAllowed ? 'block' : 'none';\n",
              "    })();\n",
              "  </script>\n",
              "</div>\n",
              "\n",
              "    </div>\n",
              "  </div>\n"
            ],
            "application/vnd.google.colaboratory.intrinsic+json": {
              "type": "dataframe",
              "variable_name": "df",
              "summary": "{\n  \"name\": \"df\",\n  \"rows\": 1898,\n  \"fields\": [\n    {\n      \"column\": \"order_id\",\n      \"properties\": {\n        \"dtype\": \"number\",\n        \"std\": 548,\n        \"min\": 1476547,\n        \"max\": 1478444,\n        \"num_unique_values\": 1898,\n        \"samples\": [\n          1477722,\n          1478319,\n          1477650\n        ],\n        \"semantic_type\": \"\",\n        \"description\": \"\"\n      }\n    },\n    {\n      \"column\": \"customer_id\",\n      \"properties\": {\n        \"dtype\": \"number\",\n        \"std\": 113698,\n        \"min\": 1311,\n        \"max\": 405334,\n        \"num_unique_values\": 1200,\n        \"samples\": [\n          351329,\n          49987,\n          345899\n        ],\n        \"semantic_type\": \"\",\n        \"description\": \"\"\n      }\n    },\n    {\n      \"column\": \"restaurant_name\",\n      \"properties\": {\n        \"dtype\": \"category\",\n        \"num_unique_values\": 178,\n        \"samples\": [\n          \"Tortaria\",\n          \"Osteria Morini\",\n          \"Philippe Chow\"\n        ],\n        \"semantic_type\": \"\",\n        \"description\": \"\"\n      }\n    },\n    {\n      \"column\": \"cuisine_type\",\n      \"properties\": {\n        \"dtype\": \"category\",\n        \"num_unique_values\": 14,\n        \"samples\": [\n          \"Thai\",\n          \"French\",\n          \"Korean\"\n        ],\n        \"semantic_type\": \"\",\n        \"description\": \"\"\n      }\n    },\n    {\n      \"column\": \"cost_of_the_order\",\n      \"properties\": {\n        \"dtype\": \"number\",\n        \"std\": 7.48381211004957,\n        \"min\": 4.47,\n        \"max\": 35.41,\n        \"num_unique_values\": 312,\n        \"samples\": [\n          21.29,\n          7.18,\n          13.34\n        ],\n        \"semantic_type\": \"\",\n        \"description\": \"\"\n      }\n    },\n    {\n      \"column\": \"day_of_the_week\",\n      \"properties\": {\n        \"dtype\": \"category\",\n        \"num_unique_values\": 2,\n        \"samples\": [\n          \"Weekday\",\n          \"Weekend\"\n        ],\n        \"semantic_type\": \"\",\n        \"description\": \"\"\n      }\n    },\n    {\n      \"column\": \"rating\",\n      \"properties\": {\n        \"dtype\": \"category\",\n        \"num_unique_values\": 4,\n        \"samples\": [\n          \"5\",\n          \"4\"\n        ],\n        \"semantic_type\": \"\",\n        \"description\": \"\"\n      }\n    },\n    {\n      \"column\": \"food_preparation_time\",\n      \"properties\": {\n        \"dtype\": \"number\",\n        \"std\": 4,\n        \"min\": 20,\n        \"max\": 35,\n        \"num_unique_values\": 16,\n        \"samples\": [\n          25,\n          23\n        ],\n        \"semantic_type\": \"\",\n        \"description\": \"\"\n      }\n    },\n    {\n      \"column\": \"delivery_time\",\n      \"properties\": {\n        \"dtype\": \"number\",\n        \"std\": 4,\n        \"min\": 15,\n        \"max\": 33,\n        \"num_unique_values\": 19,\n        \"samples\": [\n          20,\n          21\n        ],\n        \"semantic_type\": \"\",\n        \"description\": \"\"\n      }\n    },\n    {\n      \"column\": \"Revenue\",\n      \"properties\": {\n        \"dtype\": \"number\",\n        \"std\": 2.295598285490861,\n        \"min\": 0.0,\n        \"max\": 8.8525,\n        \"num_unique_values\": 306,\n        \"samples\": [\n          1.1415,\n          2.3355\n        ],\n        \"semantic_type\": \"\",\n        \"description\": \"\"\n      }\n    }\n  ]\n}"
            }
          },
          "metadata": {},
          "execution_count": 16
        }
      ],
      "source": [
        "#function to determine the revenue\n",
        "def compute_rev(x):\n",
        "    if x > 20:\n",
        "        return x*0.25\n",
        "    elif x > 5:\n",
        "        return x*0.15\n",
        "    else:\n",
        "        return x*0\n",
        "\n",
        "df['Revenue'] = df['cost_of_the_order'].apply(compute_rev) ## Write the apprpriate column name to compute the revenue\n",
        "df.head()"
      ]
    },
    {
      "cell_type": "code",
      "execution_count": null,
      "metadata": {
        "id": "Ab_UW6kRIAk3",
        "colab": {
          "base_uri": "https://localhost:8080/"
        },
        "outputId": "13721418-25a6-4bef-853c-9a99fee8b17d"
      },
      "outputs": [
        {
          "output_type": "stream",
          "name": "stdout",
          "text": [
            "The net revenue is around 6166.3 dollars\n"
          ]
        }
      ],
      "source": [
        "# get the total revenue and print it\n",
        "total_rev = df['Revenue'].sum() ## Write the appropriate function to get the total revenue\n",
        "print('The net revenue is around', round(total_rev, 2), 'dollars')"
      ]
    },
    {
      "cell_type": "markdown",
      "metadata": {
        "id": "LZy7Tky82rdT"
      },
      "source": [
        "### **Question 15:** The company wants to analyze the total time required to deliver the food. What percentage of orders take more than 60 minutes to get delivered from the time the order is placed? (The food has to be prepared and then delivered.)[2 marks]\n"
      ]
    },
    {
      "cell_type": "code",
      "execution_count": null,
      "metadata": {
        "id": "Ati2ZEEE2rdT",
        "colab": {
          "base_uri": "https://localhost:8080/"
        },
        "outputId": "5e87a8d1-a983-4ff8-c0ba-47dcb854e89d"
      },
      "outputs": [
        {
          "output_type": "stream",
          "name": "stdout",
          "text": [
            "10.54 % of the orders take more than 60 minutes to get delivered from the time the order is placed\n"
          ]
        }
      ],
      "source": [
        "# Calculate total delivery time and add a new column to the dataframe df to store the total delivery time\n",
        "df['total_time'] = df['food_preparation_time'] + df['delivery_time']\n",
        "\n",
        "\n",
        "## Write the code below to find the percentage of orders that have more than 60 minutes of total delivery time (see Question 9 for reference)\n",
        "\n",
        "# Find the percentage of orders that have more than 60 minutes of total delivery time\n",
        "percentage_over_60 = (df['total_time'] > 60).mean() * 100\n",
        "\n",
        "# Round the result to 2 decimal places\n",
        "percentage_over_60_rounded = round(percentage_over_60, 2)\n",
        "print(percentage_over_60_rounded, '% of the orders take more than 60 minutes to get delivered from the time the order is placed')\n",
        "\n",
        "\n"
      ]
    },
    {
      "cell_type": "markdown",
      "metadata": {
        "id": "SYOKcqNF2rdU"
      },
      "source": [
        "### **Question 16:** The company wants to analyze the delivery time of the orders on weekdays and weekends. How does the mean delivery time vary during weekdays and weekends? [2 marks]"
      ]
    },
    {
      "cell_type": "code",
      "execution_count": null,
      "metadata": {
        "id": "A2eovxKR2rdU",
        "colab": {
          "base_uri": "https://localhost:8080/"
        },
        "outputId": "12b7357e-d353-4079-8c0f-4a15e757a914"
      },
      "outputs": [
        {
          "output_type": "stream",
          "name": "stdout",
          "text": [
            "The mean delivery time on weekdays is around 28 minutes\n",
            "The mean delivery time on weekends is around 22 minutes\n"
          ]
        }
      ],
      "source": [
        "# Get the mean delivery time on weekdays and print it\n",
        "print('The mean delivery time on weekdays is around',\n",
        "      round(df[df['day_of_the_week'] == 'Weekday']['delivery_time'].mean()),\n",
        "     'minutes')\n",
        "\n",
        "\n",
        "## Write the code below to get the mean delivery time on weekends and print it\n",
        "print('The mean delivery time on weekends is around',\n",
        "      round(df[df['day_of_the_week'] == 'Weekend']['delivery_time'].mean()),\n",
        "     'minutes')\n",
        "\n",
        "\n",
        "\n"
      ]
    },
    {
      "cell_type": "markdown",
      "source": [
        "**Deliveries are faster on weekends**"
      ],
      "metadata": {
        "id": "fK1LEuo7SkOt"
      }
    },
    {
      "cell_type": "markdown",
      "metadata": {
        "id": "2nE3pq472rdU"
      },
      "source": [
        "### Conclusion and Recommendations"
      ]
    },
    {
      "cell_type": "markdown",
      "metadata": {
        "id": "DL1sNndy2rdU"
      },
      "source": [
        "### **Question 17:** What are your conclusions from the analysis? What recommendations would you like to share to help improve the business? (You can use cuisine type and feedback ratings to drive your business recommendations.) [6 marks]"
      ]
    },
    {
      "cell_type": "markdown",
      "metadata": {
        "id": "VTugVsL4Ddz-"
      },
      "source": [
        "### Conclusions:\n",
        "*  **Order Ratings**: A significant portion of orders were not rated by customers, indicating an opportunity to improve customer engagement and gather more feedback to better assess satisfaction and service quality.\n",
        "\n",
        "Supporting data:\n",
        "Out of the 1,898 orders in our dataset, 736 were not rated, which is approximately 38.78% of the total orders. This high number of unrated orders suggests an opportunity for improvement in customer feedback mechanisms\n",
        "\n",
        "*  **Cuisine Popularity**: American and Japanese cuisines emerged as the most popular choices among the orders, suggesting a strong market demand for these types of food.\n",
        "\n",
        "Supporting Data:\n",
        "American cuisine led the order count with 584 orders, followed closely by Japanese cuisine with 470 orders. These two cuisines together dominated the order volume, signaling customer preference trends\n",
        "\n",
        "*  **Order Costs**: The cost of orders showed a right-skewed distribution, with a majority of the orders being on the lower end of the cost spectrum. High-cost orders were fewer, but they could indicate premium offerings or larger order sizes.\n",
        "\n",
        "Supporting data:\n",
        "The average cost of an order was approximately $16.50, but the cost distribution was right-skewed, indicating that while most orders were of lower cost, there is a subset of orders that are significantly more expensive\n",
        "\n",
        "*  **Order Timing**: There was a clear preference for placing orders over the weekend, likely reflecting lifestyle patterns of the customer base, such as students and busy professionals.\n",
        "\n",
        "Supporting data:\n",
        "The orders placed on weekends amounted to 1,351, which is roughly 71.18% of all orders, suggesting a significant preference for weekend food delivery services\n",
        "\n",
        "*  **Delivery Insights**: The delivery time analysis did not indicate significant variability between weekdays and weekends, suggesting consistent delivery performance across days. However, without the final heatmap and pointplot analyses, insights into correlations and relationships with other variables like preparation time and ratings were not conclusive.\n",
        "\n"
      ]
    },
    {
      "cell_type": "markdown",
      "metadata": {
        "id": "PWnsI0i_guWJ"
      },
      "source": [
        "### Recommendations:\n",
        "\n",
        "*  **Lower the delivery time of orders.** 10% of orders take over 60 minutes for the customer to receive their food\n",
        "*  **Gather more customer feedback.** Almost 40% of orders were not rated\n",
        "*  **Focus on popular cuisines.** Since American and Japanese cuisines are highly popular, consider expanding offerings or featuring more restaurants from these categories to meet demand\n",
        "*  **Create targeted promotions**. Use the data on popular order times to offer targeted promotions, such as weekend specials, to capitalize on higher order volumes during these peak times\n",
        "\n",
        "Given that a substantial 71.18% of orders are placed on weekends, weekend-specific promotions or discounts could drive even higher sales during these peak times\n",
        "\n",
        "*  **Work on menu and price optimization.** Analyze the relationship between order cost and customer satisfaction further. Consider menu pricing strategies that could increase the appeal of mid- to high-cost items without sacrificing customer satisfaction\n",
        "\n",
        "While the mean order cost was $16.50, considering the skew in the data, it could be beneficial to examine pricing strategies that could entice customers to explore the higher-end offerings that may enhance average order value without impacting customer satisfaction negatively\n",
        "\n",
        "*  **Improve Operational Efficiency.** Aim to maintain or improve delivery times, especially if further analysis shows a correlation with higher customer ratings. Efficient delivery remains key to customer satisfaction.\n",
        "*  **Improve cuisine-Based Service Standards.** Look into preparation times for different cuisines and assess if there's a need for standardization or if the diversity in preparation times is aligned with customer expectations"
      ]
    },
    {
      "cell_type": "markdown",
      "metadata": {
        "id": "Kvk0Fh6WhMjU"
      },
      "source": [
        "---"
      ]
    }
  ],
  "metadata": {
    "colab": {
      "collapsed_sections": [
        "LUh8hTiW2rdH",
        "2Dl2aL1W2rdI",
        "4ceeYAVy2rdO",
        "lu0o5GkQ2rdR",
        "2nE3pq472rdU",
        "DL1sNndy2rdU"
      ],
      "provenance": []
    },
    "kernelspec": {
      "display_name": "Python 3 (ipykernel)",
      "language": "python",
      "name": "python3"
    },
    "language_info": {
      "codemirror_mode": {
        "name": "ipython",
        "version": 3
      },
      "file_extension": ".py",
      "mimetype": "text/x-python",
      "name": "python",
      "nbconvert_exporter": "python",
      "pygments_lexer": "ipython3",
      "version": "3.9.7"
    }
  },
  "nbformat": 4,
  "nbformat_minor": 0
}